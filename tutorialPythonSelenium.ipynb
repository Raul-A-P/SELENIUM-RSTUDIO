{
 "cells": [
  {
   "cell_type": "code",
   "execution_count": 1,
   "metadata": {},
   "outputs": [],
   "source": [
    "# import modules\n",
    "\n",
    "from selenium import webdriver\n",
    "from selenium.webdriver.chrome.options import Options\n",
    "from getpass import getpass\n",
    "import pandas as pd\n",
    "import time\n",
    "import csv\n",
    "import os"
   ]
  },
  {
   "cell_type": "markdown",
   "metadata": {},
   "source": [
    "### In order to use Selenium, you need the geckodriver file saved in your machine.\n",
    "### I give more details about this in the Introduction to the following Medium article:\n",
    "https://medium.com/analytics-vidhya/search-automation-in-google-translate-download-translations-with-selenium-3a8c8e136b0e\n"
   ]
  },
  {
   "cell_type": "code",
   "execution_count": 2,
   "metadata": {},
   "outputs": [],
   "source": [
    "# Path to the chromedriver file in Windows and Linux.\n",
    "# You need to change them to your local path.\n",
    "linux_path = \"my/Linux/path/chromium.chromedriver\"\n",
    "windows_path = r\"C:\\Users\\my\\Windows\\path\\chromedriver.exe\"\n",
    "\n",
    "# escolhe o path do chromedriver, de acordo com o sistema operacional\n",
    "if os.name == \"posix\":\n",
    "    path = linux_path\n",
    "    \n",
    "else:\n",
    "    path = windows_path"
   ]
  },
  {
   "cell_type": "code",
   "execution_count": 3,
   "metadata": {},
   "outputs": [
    {
     "name": "stdout",
     "output_type": "stream",
     "text": [
      "<class 'selenium.webdriver.chrome.options.Options'>\n"
     ]
    },
    {
     "data": {
      "text/plain": [
       "selenium.webdriver.chrome.webdriver.WebDriver"
      ]
     },
     "execution_count": 3,
     "metadata": {},
     "output_type": "execute_result"
    }
   ],
   "source": [
    "# Create an Options object and set headless attribute to False (which is the default).\n",
    "# Use chrome_options.headless = True if you don't want the browser window to be physically opened. \n",
    "chrome_options = Options()\n",
    "print(type(chrome_options))\n",
    "chrome_options.headless = False\n",
    "\n",
    "# Save a webdriver object in the driver variable\n",
    "driver = webdriver.Chrome(executable_path = path,\n",
    "                          options = chrome_options)\n",
    "\n",
    "# Check object type\n",
    "type(driver)"
   ]
  },
  {
   "cell_type": "code",
   "execution_count": 4,
   "metadata": {},
   "outputs": [],
   "source": [
    "# Navigate to the page to be scraped\n",
    "url = \"https://quotes.toscrape.com/\"\n",
    "driver.get(url)"
   ]
  },
  {
   "cell_type": "code",
   "execution_count": 5,
   "metadata": {},
   "outputs": [
    {
     "name": "stdout",
     "output_type": "stream",
     "text": [
      "https://quotes.toscrape.com/\n"
     ]
    }
   ],
   "source": [
    "# Get the current url\n",
    "info = driver.current_url\n",
    "print(info)\n",
    "\n",
    "# Maximize window\n",
    "driver.maximize_window()"
   ]
  },
  {
   "cell_type": "markdown",
   "metadata": {},
   "source": [
    "### In Python, we have the following webdriver methods to find HTML elements from a webpage:  \n",
    "\n",
    "1. driver.find_element_by_xpath()\n",
    "2. driver.find_element_by_css_selector()\n",
    "3. driver.find_element_by_tag_name()\n",
    "4. driver.find_element_by_class_name()\n",
    "5. driver.find_element_by_id()\n",
    "6. driver.find_element_by_name()\n",
    "7. driver.find_element_by_link_text()\n",
    "8. driver.find_element_by_partial_link_text()"
   ]
  },
  {
   "cell_type": "code",
   "execution_count": 6,
   "metadata": {},
   "outputs": [
    {
     "data": {
      "text/plain": [
       "selenium.webdriver.remote.webelement.WebElement"
      ]
     },
     "execution_count": 6,
     "metadata": {},
     "output_type": "execute_result"
    }
   ],
   "source": [
    "# Get the login link element by using Xpath\n",
    "login_xpath = \"/html/body/div/div[1]/div[2]/p/a\"\n",
    "login_link = driver.find_element_by_xpath(login_xpath)\n",
    "type(login_link)"
   ]
  },
  {
   "cell_type": "code",
   "execution_count": 7,
   "metadata": {},
   "outputs": [
    {
     "name": "stdout",
     "output_type": "stream",
     "text": [
      "tag name: a\n",
      "inner text: Login\n",
      "href attribute: https://quotes.toscrape.com/login\n"
     ]
    }
   ],
   "source": [
    "# This attribute returns the element tag name\n",
    "tag_name = login_link.tag_name\n",
    "print(\"tag name:\", tag_name)\n",
    "\n",
    "# This attribute returns the element inner text\n",
    "text = login_link.text\n",
    "print(\"inner text:\", text)\n",
    "\n",
    "# This method returns an element HTML attribute (in this case, \"href\")\n",
    "href_attribute = login_link.get_attribute(\"href\")\n",
    "print(\"href attribute:\", href_attribute)"
   ]
  },
  {
   "cell_type": "code",
   "execution_count": 8,
   "metadata": {},
   "outputs": [],
   "source": [
    "# Click on the element\n",
    "login_link.click()"
   ]
  },
  {
   "cell_type": "code",
   "execution_count": 9,
   "metadata": {},
   "outputs": [
    {
     "name": "stdout",
     "output_type": "stream",
     "text": [
      "ok\n"
     ]
    }
   ],
   "source": [
    "# Go back to the last page and wait 2.5 seconds\n",
    "driver.back()\n",
    "time.sleep(2.5)\n",
    "print(\"ok\")"
   ]
  },
  {
   "cell_type": "code",
   "execution_count": 10,
   "metadata": {},
   "outputs": [
    {
     "name": "stdout",
     "output_type": "stream",
     "text": [
      "ok\n"
     ]
    }
   ],
   "source": [
    "# Go forward in the browser history and wait 2 seconds\n",
    "driver.forward()\n",
    "time.sleep(2)\n",
    "print(\"ok\")"
   ]
  },
  {
   "cell_type": "code",
   "execution_count": 11,
   "metadata": {},
   "outputs": [
    {
     "data": {
      "text/plain": [
       "selenium.webdriver.remote.webelement.WebElement"
      ]
     },
     "execution_count": 11,
     "metadata": {},
     "output_type": "execute_result"
    }
   ],
   "source": [
    "# This code uses a css selector to get the link to the main page\n",
    "css_selector = \"div.header-box.row > div.col-md-8 > h1 > a\"\n",
    "main_page_link = driver.find_element_by_css_selector(css_selector)\n",
    "type(main_page_link)"
   ]
  },
  {
   "cell_type": "code",
   "execution_count": 12,
   "metadata": {},
   "outputs": [
    {
     "name": "stdout",
     "output_type": "stream",
     "text": [
      "tag name: a\n",
      "inner text: Quotes to Scrape\n",
      "style attribute: text-decoration: none;\n"
     ]
    }
   ],
   "source": [
    "# Get the main_page_link element info and print it\n",
    "tag_name = main_page_link.tag_name\n",
    "text = main_page_link.text\n",
    "style_attribute = main_page_link.get_attribute(\"style\")\n",
    "\n",
    "print(\"tag name:\", tag_name)\n",
    "print(\"inner text:\", text)\n",
    "print(\"style attribute:\", style_attribute)\n",
    "\n",
    "# Click on the link\n",
    "main_page_link.click()"
   ]
  },
  {
   "cell_type": "code",
   "execution_count": 13,
   "metadata": {},
   "outputs": [],
   "source": [
    "# This function makes the browser return to the main page\n",
    "def return_to_main_page():\n",
    "    css_selector = \"div.header-box.row > div.col-md-8 > h1 > a\"\n",
    "    driver.find_element_by_css_selector(css_selector).click()"
   ]
  },
  {
   "cell_type": "markdown",
   "metadata": {},
   "source": [
    "### In Python, if you write \"driver.find_elements_...\" (note the additional \"s\"), we can use the same kind of webdriver methods listed before to find all the HTML elements from a webpage with a specific characteristic. These methods return a list of WebElement objects:  \n",
    "\n",
    "1. driver.find_elements_by_xpath()\n",
    "2. driver.find_elements_by_css_selector()\n",
    "3. driver.find_elements_by_tag_name()\n",
    "4. driver.find_elements_by_class_name()\n",
    "5. driver.find_elements_by_id()\n",
    "6. driver.find_elements_by_name()\n",
    "7. driver.find_elements_by_link_text()\n",
    "8. driver.find_elements_by_partial_link_text()"
   ]
  },
  {
   "cell_type": "code",
   "execution_count": 14,
   "metadata": {},
   "outputs": [
    {
     "name": "stdout",
     "output_type": "stream",
     "text": [
      "number of links in main page: 55 \n",
      "\n",
      "object all_links_page_1:\n",
      "type: <class 'list'> \n",
      "\n",
      "seventh object in the all_links_page_1 list:\n",
      "type: <selenium.webdriver.remote.webelement.WebElement (session=\"8225bebb900485d56ea2d2e4b186a97a\", element=\"264ae49d-cfa4-424f-9bcc-3ba610a0eee3\")>\n"
     ]
    }
   ],
   "source": [
    "# This code finds all links in page 1 by using the tag name\n",
    "return_to_main_page()\n",
    "\n",
    "all_links_page_1 = driver.find_elements_by_tag_name(\"a\")\n",
    "\n",
    "print(\"number of links in main page:\",\n",
    "      len(all_links_page_1),\n",
    "      \"\\n\")\n",
    "\n",
    "print(\"object all_links_page_1:\\ntype:\",\n",
    "      type(all_links_page_1),\n",
    "      \"\\n\")\n",
    "\n",
    "print(\"seventh object in the all_links_page_1 list:\\ntype:\",\n",
    "      all_links_page_1[7])"
   ]
  },
  {
   "cell_type": "code",
   "execution_count": 15,
   "metadata": {},
   "outputs": [],
   "source": [
    "# The function below, when used in a webElement with the \"a\" tag name,\n",
    "# returns the link inner text and its url.\n",
    "# Both info are also printed to the console if print_output = True\n",
    "def show_links_info(link_element, print_output = True):\n",
    "    text = link_element.text\n",
    "    url = link_element.get_attribute(\"href\")\n",
    "    \n",
    "    if (print_output):\n",
    "        print(f\"{text}: {url}\")\n",
    "        \n",
    "    return text, url"
   ]
  },
  {
   "cell_type": "code",
   "execution_count": 16,
   "metadata": {},
   "outputs": [
    {
     "name": "stdout",
     "output_type": "stream",
     "text": [
      "Quotes to Scrape: https://quotes.toscrape.com/\n",
      "Login: https://quotes.toscrape.com/login\n",
      "(about): https://quotes.toscrape.com/author/Albert-Einstein\n",
      "change: https://quotes.toscrape.com/tag/change/page/1/\n",
      "deep-thoughts: https://quotes.toscrape.com/tag/deep-thoughts/page/1/\n",
      "thinking: https://quotes.toscrape.com/tag/thinking/page/1/\n",
      "world: https://quotes.toscrape.com/tag/world/page/1/\n",
      "(about): https://quotes.toscrape.com/author/J-K-Rowling\n",
      "abilities: https://quotes.toscrape.com/tag/abilities/page/1/\n",
      "choices: https://quotes.toscrape.com/tag/choices/page/1/\n",
      "(about): https://quotes.toscrape.com/author/Albert-Einstein\n",
      "inspirational: https://quotes.toscrape.com/tag/inspirational/page/1/\n",
      "life: https://quotes.toscrape.com/tag/life/page/1/\n",
      "live: https://quotes.toscrape.com/tag/live/page/1/\n",
      "miracle: https://quotes.toscrape.com/tag/miracle/page/1/\n",
      "miracles: https://quotes.toscrape.com/tag/miracles/page/1/\n",
      "(about): https://quotes.toscrape.com/author/Jane-Austen\n",
      "aliteracy: https://quotes.toscrape.com/tag/aliteracy/page/1/\n",
      "books: https://quotes.toscrape.com/tag/books/page/1/\n",
      "classic: https://quotes.toscrape.com/tag/classic/page/1/\n",
      "humor: https://quotes.toscrape.com/tag/humor/page/1/\n",
      "(about): https://quotes.toscrape.com/author/Marilyn-Monroe\n",
      "be-yourself: https://quotes.toscrape.com/tag/be-yourself/page/1/\n",
      "inspirational: https://quotes.toscrape.com/tag/inspirational/page/1/\n",
      "(about): https://quotes.toscrape.com/author/Albert-Einstein\n",
      "adulthood: https://quotes.toscrape.com/tag/adulthood/page/1/\n",
      "success: https://quotes.toscrape.com/tag/success/page/1/\n",
      "value: https://quotes.toscrape.com/tag/value/page/1/\n",
      "(about): https://quotes.toscrape.com/author/Andre-Gide\n",
      "life: https://quotes.toscrape.com/tag/life/page/1/\n",
      "love: https://quotes.toscrape.com/tag/love/page/1/\n",
      "(about): https://quotes.toscrape.com/author/Thomas-A-Edison\n",
      "edison: https://quotes.toscrape.com/tag/edison/page/1/\n",
      "failure: https://quotes.toscrape.com/tag/failure/page/1/\n",
      "inspirational: https://quotes.toscrape.com/tag/inspirational/page/1/\n",
      "paraphrased: https://quotes.toscrape.com/tag/paraphrased/page/1/\n",
      "(about): https://quotes.toscrape.com/author/Eleanor-Roosevelt\n",
      "misattributed-eleanor-roosevelt: https://quotes.toscrape.com/tag/misattributed-eleanor-roosevelt/page/1/\n",
      "(about): https://quotes.toscrape.com/author/Steve-Martin\n",
      "humor: https://quotes.toscrape.com/tag/humor/page/1/\n",
      "obvious: https://quotes.toscrape.com/tag/obvious/page/1/\n",
      "simile: https://quotes.toscrape.com/tag/simile/page/1/\n",
      "Next →: https://quotes.toscrape.com/page/2/\n",
      "love: https://quotes.toscrape.com/tag/love/\n",
      "inspirational: https://quotes.toscrape.com/tag/inspirational/\n",
      "life: https://quotes.toscrape.com/tag/life/\n",
      "humor: https://quotes.toscrape.com/tag/humor/\n",
      "books: https://quotes.toscrape.com/tag/books/\n",
      "reading: https://quotes.toscrape.com/tag/reading/\n",
      "friendship: https://quotes.toscrape.com/tag/friendship/\n",
      "friends: https://quotes.toscrape.com/tag/friends/\n",
      "truth: https://quotes.toscrape.com/tag/truth/\n",
      "simile: https://quotes.toscrape.com/tag/simile/\n",
      "GoodReads.com: https://www.goodreads.com/quotes\n",
      "Scrapinghub: https://scrapinghub.com/\n"
     ]
    }
   ],
   "source": [
    "# Create a string with all the links in the first page\n",
    "saved_as_string = \"\"\n",
    "\n",
    "for link in all_links_page_1:\n",
    "    text, url = show_links_info(link)\n",
    "    saved_as_string += f\"{text}: {url}\\n\" "
   ]
  },
  {
   "cell_type": "code",
   "execution_count": 17,
   "metadata": {},
   "outputs": [
    {
     "data": {
      "text/html": [
       "<div>\n",
       "<style scoped>\n",
       "    .dataframe tbody tr th:only-of-type {\n",
       "        vertical-align: middle;\n",
       "    }\n",
       "\n",
       "    .dataframe tbody tr th {\n",
       "        vertical-align: top;\n",
       "    }\n",
       "\n",
       "    .dataframe thead th {\n",
       "        text-align: right;\n",
       "    }\n",
       "</style>\n",
       "<table border=\"1\" class=\"dataframe\">\n",
       "  <thead>\n",
       "    <tr style=\"text-align: right;\">\n",
       "      <th></th>\n",
       "      <th>inner_text</th>\n",
       "      <th>link</th>\n",
       "    </tr>\n",
       "    <tr>\n",
       "      <th>index</th>\n",
       "      <th></th>\n",
       "      <th></th>\n",
       "    </tr>\n",
       "  </thead>\n",
       "  <tbody>\n",
       "    <tr>\n",
       "      <th>1</th>\n",
       "      <td>Quotes to Scrape</td>\n",
       "      <td>https://quotes.toscrape.com/</td>\n",
       "    </tr>\n",
       "    <tr>\n",
       "      <th>2</th>\n",
       "      <td>Login</td>\n",
       "      <td>https://quotes.toscrape.com/login</td>\n",
       "    </tr>\n",
       "    <tr>\n",
       "      <th>3</th>\n",
       "      <td>(about)</td>\n",
       "      <td>https://quotes.toscrape.com/author/Albert-Eins...</td>\n",
       "    </tr>\n",
       "    <tr>\n",
       "      <th>4</th>\n",
       "      <td>change</td>\n",
       "      <td>https://quotes.toscrape.com/tag/change/page/1/</td>\n",
       "    </tr>\n",
       "    <tr>\n",
       "      <th>5</th>\n",
       "      <td>deep-thoughts</td>\n",
       "      <td>https://quotes.toscrape.com/tag/deep-thoughts/...</td>\n",
       "    </tr>\n",
       "  </tbody>\n",
       "</table>\n",
       "</div>"
      ],
      "text/plain": [
       "             inner_text                                               link\n",
       "index                                                                     \n",
       "1      Quotes to Scrape                       https://quotes.toscrape.com/\n",
       "2                 Login                  https://quotes.toscrape.com/login\n",
       "3               (about)  https://quotes.toscrape.com/author/Albert-Eins...\n",
       "4                change     https://quotes.toscrape.com/tag/change/page/1/\n",
       "5         deep-thoughts  https://quotes.toscrape.com/tag/deep-thoughts/..."
      ]
     },
     "execution_count": 17,
     "metadata": {},
     "output_type": "execute_result"
    }
   ],
   "source": [
    "# The code below saves all links from page 1 into a CSV\n",
    "\n",
    "# Open CSV file\n",
    "file = open(\"links.csv\",\n",
    "            \"w\",\n",
    "            encoding = \"UTF-8\",\n",
    "            newline = \"\")\n",
    "\n",
    "# Create writer object from csv module\n",
    "csv_writer = csv.writer(file)\n",
    "\n",
    "# insert CSV header:\n",
    "csv_writer.writerow([\"index\", \"inner_text\", \"link\"])\n",
    "\n",
    "# Colect links info and save it as CSV rows\n",
    "for index, link in enumerate(all_links_page_1):\n",
    "    links_info = show_links_info(link, print_output = False)\n",
    "    row = [index + 1,\n",
    "           links_info[0].strip(),\n",
    "           links_info[1]]\n",
    "    csv_writer.writerow(row)\n",
    "\n",
    "\n",
    "# close file\n",
    "file.close()\n",
    "\n",
    "# show first rows from the scraped data\n",
    "df = pd.read_csv(\"links.csv\", index_col=\"index\")\n",
    "df.head()"
   ]
  },
  {
   "cell_type": "code",
   "execution_count": 18,
   "metadata": {},
   "outputs": [
    {
     "name": "stdout",
     "output_type": "stream",
     "text": [
      "page 1\n",
      "page 2\n",
      "page 3\n",
      "page 4\n",
      "page 5\n",
      "page 6\n",
      "page 7\n",
      "page 8\n",
      "page 9\n",
      "page 10\n",
      "\n",
      "we reached the last page\n",
      "back to page 1\n",
      "\n"
     ]
    }
   ],
   "source": [
    "# This code clicks on the \"next\" link and moves along the pages.\n",
    "# When the last page is reached and there is no next link, break the loop.\n",
    "return_to_main_page()\n",
    "\n",
    "i = 1\n",
    "\n",
    "while True:\n",
    "    print(\"page\", i)\n",
    "    i += 1\n",
    "        \n",
    "    next_link_as_list = driver.find_elements_by_css_selector(\"li.next > a\")\n",
    "\n",
    "    if len(next_link_as_list) == 0:\n",
    "        break\n",
    "    \n",
    "    next_link_as_list[0].click()\n",
    "    time.sleep(2)\n",
    "\n",
    "print(\"\\nwe reached the last page\")\n",
    "return_to_main_page()\n",
    "print(\"back to page 1\\n\")"
   ]
  },
  {
   "cell_type": "code",
   "execution_count": 19,
   "metadata": {},
   "outputs": [],
   "source": [
    "# From the code above, we discovered that there are 10 pages in the website.\n",
    "# The function below goes to a chosen page and it will raise an error\n",
    "# if the argument passed to it is not a number between 1 and 10\n",
    "\n",
    "def go_to_page(page_number = 1):\n",
    "    message = \"Provide an integer number between 1 and 10 as argument\" \n",
    "    if isinstance(page_number, str):\n",
    "        raise TypeError(\"Error: you passed a string as argument. \" + message)\n",
    "        \n",
    "    if (not isinstance(page_number, (int, float)) or\n",
    "        page_number < 1 or\n",
    "        page_number > 10):\n",
    "        \n",
    "        raise TypeError(message)\n",
    "        \n",
    "    if page_number % 1 != 0:\n",
    "        page_number = int(page_number)\n",
    "        print(\"page_number truncated to\", page_number)\n",
    "    \n",
    "    if page_number != 1:\n",
    "        base_url_page = \"https://quotes.toscrape.com/page/\"\n",
    "        driver.get(f\"{base_url_page}{page_number}\")    \n",
    "    else: \n",
    "        return_to_main_page()"
   ]
  },
  {
   "cell_type": "code",
   "execution_count": 20,
   "metadata": {},
   "outputs": [
    {
     "name": "stdout",
     "output_type": "stream",
     "text": [
      "https://quotes.toscrape.com/page/3/\n",
      "https://quotes.toscrape.com/page/7/\n"
     ]
    }
   ],
   "source": [
    "# Go to page 3, wait 2.5 seconds and then go to page 7\n",
    "go_to_page(3)\n",
    "print(driver.current_url)\n",
    "\n",
    "time.sleep(2.5)\n",
    "\n",
    "go_to_page(7)\n",
    "print(driver.current_url)"
   ]
  },
  {
   "cell_type": "code",
   "execution_count": 21,
   "metadata": {},
   "outputs": [
    {
     "name": "stdout",
     "output_type": "stream",
     "text": [
      "page_number truncated to 3\n"
     ]
    },
    {
     "data": {
      "text/plain": [
       "'https://quotes.toscrape.com/page/3/'"
      ]
     },
     "execution_count": 21,
     "metadata": {},
     "output_type": "execute_result"
    }
   ],
   "source": [
    "# This code truncates 3.141592653589793 to 3 and then go to page 3\n",
    "import math\n",
    "\n",
    "go_to_page(math.pi)\n",
    "time.sleep(2.5)\n",
    "driver.current_url"
   ]
  },
  {
   "cell_type": "code",
   "execution_count": 22,
   "metadata": {},
   "outputs": [
    {
     "ename": "TypeError",
     "evalue": "Error: you passed a string as argument. Provide an integer number between 1 and 10 as argument",
     "output_type": "error",
     "traceback": [
      "\u001b[1;31m---------------------------------------------------------------------------\u001b[0m",
      "\u001b[1;31mTypeError\u001b[0m                                 Traceback (most recent call last)",
      "\u001b[1;32m<ipython-input-22-d163ff0cd006>\u001b[0m in \u001b[0;36m<module>\u001b[1;34m\u001b[0m\n\u001b[0;32m      3\u001b[0m \u001b[1;33m\u001b[0m\u001b[0m\n\u001b[0;32m      4\u001b[0m \u001b[1;33m\u001b[0m\u001b[0m\n\u001b[1;32m----> 5\u001b[1;33m \u001b[0mgo_to_page\u001b[0m\u001b[1;33m(\u001b[0m\u001b[1;34m\"page number 3\"\u001b[0m\u001b[1;33m)\u001b[0m\u001b[1;33m\u001b[0m\u001b[1;33m\u001b[0m\u001b[0m\n\u001b[0m\u001b[0;32m      6\u001b[0m \u001b[0mgo_to_page\u001b[0m\u001b[1;33m(\u001b[0m\u001b[1;34m\"3\"\u001b[0m\u001b[1;33m)\u001b[0m\u001b[1;33m\u001b[0m\u001b[1;33m\u001b[0m\u001b[0m\n\u001b[0;32m      7\u001b[0m \u001b[0mgo_to_page\u001b[0m\u001b[1;33m(\u001b[0m\u001b[1;34m\"3.1415\"\u001b[0m\u001b[1;33m)\u001b[0m\u001b[1;33m\u001b[0m\u001b[1;33m\u001b[0m\u001b[0m\n",
      "\u001b[1;32m<ipython-input-19-d433ff132b74>\u001b[0m in \u001b[0;36mgo_to_page\u001b[1;34m(page_number)\u001b[0m\n\u001b[0;32m      6\u001b[0m     \u001b[0mmessage\u001b[0m \u001b[1;33m=\u001b[0m \u001b[1;34m\"Provide an integer number between 1 and 10 as argument\"\u001b[0m\u001b[1;33m\u001b[0m\u001b[1;33m\u001b[0m\u001b[0m\n\u001b[0;32m      7\u001b[0m     \u001b[1;32mif\u001b[0m \u001b[0misinstance\u001b[0m\u001b[1;33m(\u001b[0m\u001b[0mpage_number\u001b[0m\u001b[1;33m,\u001b[0m \u001b[0mstr\u001b[0m\u001b[1;33m)\u001b[0m\u001b[1;33m:\u001b[0m\u001b[1;33m\u001b[0m\u001b[1;33m\u001b[0m\u001b[0m\n\u001b[1;32m----> 8\u001b[1;33m         \u001b[1;32mraise\u001b[0m \u001b[0mTypeError\u001b[0m\u001b[1;33m(\u001b[0m\u001b[1;34m\"Error: you passed a string as argument. \"\u001b[0m \u001b[1;33m+\u001b[0m \u001b[0mmessage\u001b[0m\u001b[1;33m)\u001b[0m\u001b[1;33m\u001b[0m\u001b[1;33m\u001b[0m\u001b[0m\n\u001b[0m\u001b[0;32m      9\u001b[0m \u001b[1;33m\u001b[0m\u001b[0m\n\u001b[0;32m     10\u001b[0m     if (not isinstance(page_number, (int, float)) or\n",
      "\u001b[1;31mTypeError\u001b[0m: Error: you passed a string as argument. Provide an integer number between 1 and 10 as argument"
     ]
    }
   ],
   "source": [
    "# The following function calls would return errors.\n",
    "# Comment them out to check the error messages.\n",
    "\n",
    "\n",
    "go_to_page(\"page number 3\")\n",
    "go_to_page(\"3\")\n",
    "go_to_page(\"3.1415\")\n",
    "go_to_page(25)\n",
    "go_to_page(97.75)"
   ]
  },
  {
   "cell_type": "code",
   "execution_count": 23,
   "metadata": {},
   "outputs": [
    {
     "name": "stdout",
     "output_type": "stream",
     "text": [
      "current url: https://quotes.toscrape.com/page/10/\n",
      "page number: 10\n"
     ]
    }
   ],
   "source": [
    "# The code below will extract the page number from page 10\n",
    "go_to_page(10)\n",
    "\n",
    "this_url = driver.current_url\n",
    "print(\"current url:\", this_url)\n",
    "\n",
    "url_parts = this_url.split(\"/\")\n",
    "page_number = url_parts[-2]\n",
    "print(\"page number:\", page_number)\n",
    "\n",
    "return_to_main_page()"
   ]
  },
  {
   "cell_type": "code",
   "execution_count": 24,
   "metadata": {},
   "outputs": [
    {
     "name": "stdout",
     "output_type": "stream",
     "text": [
      "“The world as we have created it is a process of our thinking. It cannot be changed without changing our thinking.”\n",
      "by Albert Einstein (about)\n",
      "Tags: change deep-thoughts thinking world\n",
      "\n",
      "“It is our choices, Harry, that show what we truly are, far more than our abilities.”\n",
      "by J.K. Rowling (about)\n",
      "Tags: abilities choices\n",
      "\n",
      "“There are only two ways to live your life. One is as though nothing is a miracle. The other is as though everything is a miracle.”\n",
      "by Albert Einstein (about)\n",
      "Tags: inspirational life live miracle miracles\n",
      "\n",
      "“The person, be it gentleman or lady, who has not pleasure in a good novel, must be intolerably stupid.”\n",
      "by Jane Austen (about)\n",
      "Tags: aliteracy books classic humor\n",
      "\n",
      "“Imperfection is beauty, madness is genius and it's better to be absolutely ridiculous than absolutely boring.”\n",
      "by Marilyn Monroe (about)\n",
      "Tags: be-yourself inspirational\n",
      "\n",
      "“Try not to become a man of success. Rather become a man of value.”\n",
      "by Albert Einstein (about)\n",
      "Tags: adulthood success value\n",
      "\n",
      "“It is better to be hated for what you are than to be loved for what you are not.”\n",
      "by André Gide (about)\n",
      "Tags: life love\n",
      "\n",
      "“I have not failed. I've just found 10,000 ways that won't work.”\n",
      "by Thomas A. Edison (about)\n",
      "Tags: edison failure inspirational paraphrased\n",
      "\n",
      "“A woman is like a tea bag; you never know how strong it is until it's in hot water.”\n",
      "by Eleanor Roosevelt (about)\n",
      "Tags: misattributed-eleanor-roosevelt\n",
      "\n",
      "“A day without sunshine is like, you know, night.”\n",
      "by Steve Martin (about)\n",
      "Tags: humor obvious simile\n",
      "\n",
      "\n"
     ]
    }
   ],
   "source": [
    "# This code reproduces all the first ten quotes as a long string.\n",
    "# It shows how you can use the WebElement.text attribute to access\n",
    "# the inner text from all children elements at once.\n",
    "quotes_divs_list = driver.find_elements_by_css_selector(\"div.quote\")\n",
    "string = \"\"\n",
    "\n",
    "for element in quotes_divs_list:\n",
    "    string += element.text + \"\\n\\n\"\n",
    "\n",
    "print(string)"
   ]
  },
  {
   "cell_type": "code",
   "execution_count": 25,
   "metadata": {},
   "outputs": [],
   "source": [
    "# With this code one can get all the info for the quotes in the current page\n",
    "return_to_main_page()\n",
    "\n",
    "quotes_text = [item.text for item in\n",
    "               driver.find_elements_by_css_selector(\"span.text\")]\n",
    "\n",
    "authors_names = [item.text for item in\n",
    "                driver.find_elements_by_css_selector(\"small.author\")] \n",
    "\n",
    "authors_links = [item.get_attribute(\"href\") for item in \n",
    "                 driver.find_elements_by_partial_link_text(\"(about)\")]\n",
    "\n",
    "tags_text = [item.text for item in\n",
    "             driver.find_elements_by_css_selector(\"div.tags\")]"
   ]
  },
  {
   "cell_type": "code",
   "execution_count": 26,
   "metadata": {},
   "outputs": [
    {
     "name": "stdout",
     "output_type": "stream",
     "text": [
      "page 1\n",
      "page 2\n",
      "page 3\n",
      "page 4\n",
      "page 5\n",
      "page 6\n",
      "page 7\n",
      "page 8\n",
      "page 9\n",
      "page 10\n",
      "\n",
      "we reached the last page\n",
      "back to page 1\n",
      "\n",
      "data frame dimensions: (100, 4)\n"
     ]
    },
    {
     "data": {
      "text/html": [
       "<div>\n",
       "<style scoped>\n",
       "    .dataframe tbody tr th:only-of-type {\n",
       "        vertical-align: middle;\n",
       "    }\n",
       "\n",
       "    .dataframe tbody tr th {\n",
       "        vertical-align: top;\n",
       "    }\n",
       "\n",
       "    .dataframe thead th {\n",
       "        text-align: right;\n",
       "    }\n",
       "</style>\n",
       "<table border=\"1\" class=\"dataframe\">\n",
       "  <thead>\n",
       "    <tr style=\"text-align: right;\">\n",
       "      <th></th>\n",
       "      <th>quote</th>\n",
       "      <th>author</th>\n",
       "      <th>author_biography_link</th>\n",
       "      <th>tags</th>\n",
       "    </tr>\n",
       "    <tr>\n",
       "      <th>index</th>\n",
       "      <th></th>\n",
       "      <th></th>\n",
       "      <th></th>\n",
       "      <th></th>\n",
       "    </tr>\n",
       "  </thead>\n",
       "  <tbody>\n",
       "    <tr>\n",
       "      <th>1</th>\n",
       "      <td>The world as we have created it is a process o...</td>\n",
       "      <td>Albert Einstein</td>\n",
       "      <td>https://quotes.toscrape.com/author/Albert-Eins...</td>\n",
       "      <td>change deep-thoughts thinking world</td>\n",
       "    </tr>\n",
       "    <tr>\n",
       "      <th>2</th>\n",
       "      <td>It is our choices, Harry, that show what we tr...</td>\n",
       "      <td>J.K. Rowling</td>\n",
       "      <td>https://quotes.toscrape.com/author/J-K-Rowling</td>\n",
       "      <td>abilities choices</td>\n",
       "    </tr>\n",
       "    <tr>\n",
       "      <th>3</th>\n",
       "      <td>There are only two ways to live your life. One...</td>\n",
       "      <td>Albert Einstein</td>\n",
       "      <td>https://quotes.toscrape.com/author/Albert-Eins...</td>\n",
       "      <td>inspirational life live miracle miracles</td>\n",
       "    </tr>\n",
       "    <tr>\n",
       "      <th>4</th>\n",
       "      <td>The person, be it gentleman or lady, who has n...</td>\n",
       "      <td>Jane Austen</td>\n",
       "      <td>https://quotes.toscrape.com/author/Jane-Austen</td>\n",
       "      <td>aliteracy books classic humor</td>\n",
       "    </tr>\n",
       "    <tr>\n",
       "      <th>5</th>\n",
       "      <td>Imperfection is beauty, madness is genius and ...</td>\n",
       "      <td>Marilyn Monroe</td>\n",
       "      <td>https://quotes.toscrape.com/author/Marilyn-Monroe</td>\n",
       "      <td>be-yourself inspirational</td>\n",
       "    </tr>\n",
       "  </tbody>\n",
       "</table>\n",
       "</div>"
      ],
      "text/plain": [
       "                                                   quote           author  \\\n",
       "index                                                                       \n",
       "1      The world as we have created it is a process o...  Albert Einstein   \n",
       "2      It is our choices, Harry, that show what we tr...     J.K. Rowling   \n",
       "3      There are only two ways to live your life. One...  Albert Einstein   \n",
       "4      The person, be it gentleman or lady, who has n...      Jane Austen   \n",
       "5      Imperfection is beauty, madness is genius and ...   Marilyn Monroe   \n",
       "\n",
       "                                   author_biography_link  \\\n",
       "index                                                      \n",
       "1      https://quotes.toscrape.com/author/Albert-Eins...   \n",
       "2         https://quotes.toscrape.com/author/J-K-Rowling   \n",
       "3      https://quotes.toscrape.com/author/Albert-Eins...   \n",
       "4         https://quotes.toscrape.com/author/Jane-Austen   \n",
       "5      https://quotes.toscrape.com/author/Marilyn-Monroe   \n",
       "\n",
       "                                           tags  \n",
       "index                                            \n",
       "1           change deep-thoughts thinking world  \n",
       "2                             abilities choices  \n",
       "3      inspirational life live miracle miracles  \n",
       "4                 aliteracy books classic humor  \n",
       "5                     be-yourself inspirational  "
      ]
     },
     "execution_count": 26,
     "metadata": {},
     "output_type": "execute_result"
    }
   ],
   "source": [
    "# Now, we only need to loop over all pages and save the quotes info into a CSV\n",
    "return_to_main_page()\n",
    "page_number = 0\n",
    "i = 0\n",
    "\n",
    "# Open CSV file\n",
    "file = open(\"quotes.csv\",\n",
    "            \"w\",\n",
    "            encoding = \"UTF-8\",\n",
    "            newline = \"\")\n",
    "\n",
    "# Create writer object from csv module\n",
    "csv_writer = csv.writer(file)\n",
    "\n",
    "# Initialize list of lists with data rows:\n",
    "rows = [\n",
    "    [\"index\", \"quote\", \"author\",\n",
    "     \"author_biography_link\", \"tags\"]\n",
    "]\n",
    "\n",
    "while True:\n",
    "    page_number += 1\n",
    "    print(\"page\", page_number)\n",
    "    \n",
    "    divs_quote_list = driver.find_elements_by_css_selector(\"div.quote\")\n",
    "    \n",
    "    for div in divs_quote_list:\n",
    "        quote_text = div.find_element_by_css_selector(\"span.text\").text\n",
    "        author_name = div.find_element_by_css_selector(\"small.author\").text\n",
    "        author_link = div.find_element_by_partial_link_text(\"(about)\")\n",
    "        tags_text = div.find_element_by_css_selector(\"div.tags\").text\n",
    "        \n",
    "        try:\n",
    "            tags_text = tags_text.lower().split(\"tags: \")[1]\n",
    "        except:\n",
    "            tags_text = \"\"\n",
    "        \n",
    "        row = [len(rows),\n",
    "               quote_text[1:-1],\n",
    "               author_name,\n",
    "               author_link.get_attribute(\"href\"),\n",
    "               tags_text]\n",
    "    \n",
    "        rows.append(row)\n",
    "  \n",
    "    next_link_as_list = driver.find_elements_by_css_selector(\"li.next > a\")\n",
    "\n",
    "    if len(next_link_as_list) == 0:\n",
    "        break\n",
    "    \n",
    "    next_link_as_list[0].click()\n",
    "    time.sleep(2)\n",
    "    \n",
    "print(\"\\nwe reached the last page\")\n",
    "return_to_main_page()\n",
    "print(\"back to page 1\\n\")\n",
    "\n",
    "# Write rows to the CSV file and close it\n",
    "csv_writer.writerows(rows)\n",
    "file.close()\n",
    "\n",
    "# Show first rows from the scraped data\n",
    "df = pd.read_csv(\"quotes.csv\", index_col=\"index\")\n",
    "print(\"data frame dimensions:\", df.shape)\n",
    "df.head()"
   ]
  },
  {
   "cell_type": "code",
   "execution_count": 27,
   "metadata": {},
   "outputs": [
    {
     "name": "stdout",
     "output_type": "stream",
     "text": [
      "total of biographical pages: 50 \n",
      "\n",
      "1 of 50\n",
      "2 of 50\n",
      "3 of 50\n",
      "4 of 50\n",
      "5 of 50\n",
      "6 of 50\n",
      "7 of 50\n",
      "8 of 50\n",
      "9 of 50\n",
      "10 of 50\n",
      "11 of 50\n",
      "12 of 50\n",
      "13 of 50\n",
      "14 of 50\n",
      "15 of 50\n",
      "16 of 50\n",
      "17 of 50\n",
      "18 of 50\n",
      "19 of 50\n",
      "20 of 50\n",
      "21 of 50\n",
      "22 of 50\n",
      "23 of 50\n",
      "24 of 50\n",
      "25 of 50\n",
      "26 of 50\n",
      "27 of 50\n",
      "28 of 50\n",
      "29 of 50\n",
      "30 of 50\n",
      "31 of 50\n",
      "32 of 50\n",
      "33 of 50\n",
      "34 of 50\n",
      "35 of 50\n",
      "36 of 50\n",
      "37 of 50\n",
      "38 of 50\n",
      "39 of 50\n",
      "40 of 50\n",
      "41 of 50\n",
      "42 of 50\n",
      "43 of 50\n",
      "44 of 50\n",
      "45 of 50\n",
      "46 of 50\n",
      "47 of 50\n",
      "48 of 50\n",
      "49 of 50\n",
      "50 of 50\n",
      "\n",
      "we reached the last page\n",
      "back to page 1\n",
      "\n",
      "data frame dimensions: (50, 4)\n"
     ]
    },
    {
     "data": {
      "text/html": [
       "<div>\n",
       "<style scoped>\n",
       "    .dataframe tbody tr th:only-of-type {\n",
       "        vertical-align: middle;\n",
       "    }\n",
       "\n",
       "    .dataframe tbody tr th {\n",
       "        vertical-align: top;\n",
       "    }\n",
       "\n",
       "    .dataframe thead th {\n",
       "        text-align: right;\n",
       "    }\n",
       "</style>\n",
       "<table border=\"1\" class=\"dataframe\">\n",
       "  <thead>\n",
       "    <tr style=\"text-align: right;\">\n",
       "      <th></th>\n",
       "      <th>name</th>\n",
       "      <th>born_date</th>\n",
       "      <th>born_location</th>\n",
       "      <th>description</th>\n",
       "    </tr>\n",
       "    <tr>\n",
       "      <th>index</th>\n",
       "      <th></th>\n",
       "      <th></th>\n",
       "      <th></th>\n",
       "      <th></th>\n",
       "    </tr>\n",
       "  </thead>\n",
       "  <tbody>\n",
       "    <tr>\n",
       "      <th>1</th>\n",
       "      <td>Eleanor Roosevelt</td>\n",
       "      <td>October 11, 1884</td>\n",
       "      <td>The United States</td>\n",
       "      <td>Anna Eleanor Roosevelt was an American politic...</td>\n",
       "    </tr>\n",
       "    <tr>\n",
       "      <th>2</th>\n",
       "      <td>Suzanne Collins</td>\n",
       "      <td>August 11, 1962</td>\n",
       "      <td>Hartford, Connecticut, The United States</td>\n",
       "      <td>Librarian Note: There is more than one author ...</td>\n",
       "    </tr>\n",
       "    <tr>\n",
       "      <th>3</th>\n",
       "      <td>C.S. Lewis</td>\n",
       "      <td>November 29, 1898</td>\n",
       "      <td>Belfast, Ireland</td>\n",
       "      <td>CLIVE STAPLES LEWIS (1898–1963) was one of the...</td>\n",
       "    </tr>\n",
       "    <tr>\n",
       "      <th>4</th>\n",
       "      <td>Garrison Keillor</td>\n",
       "      <td>August 07, 1942</td>\n",
       "      <td>Anoka, Minnesota, The United States</td>\n",
       "      <td>Garrison Keillor (born Gary Edward Keillor on ...</td>\n",
       "    </tr>\n",
       "    <tr>\n",
       "      <th>5</th>\n",
       "      <td>Alfred Tennyson</td>\n",
       "      <td>August 06, 1809</td>\n",
       "      <td>Somersby, Lincolnshire, The United Kingdom</td>\n",
       "      <td>Alfred Tennyson was born in Somersby, Lincolns...</td>\n",
       "    </tr>\n",
       "  </tbody>\n",
       "</table>\n",
       "</div>"
      ],
      "text/plain": [
       "                    name          born_date  \\\n",
       "index                                         \n",
       "1      Eleanor Roosevelt   October 11, 1884   \n",
       "2        Suzanne Collins    August 11, 1962   \n",
       "3             C.S. Lewis  November 29, 1898   \n",
       "4       Garrison Keillor    August 07, 1942   \n",
       "5        Alfred Tennyson    August 06, 1809   \n",
       "\n",
       "                                    born_location  \\\n",
       "index                                               \n",
       "1                               The United States   \n",
       "2        Hartford, Connecticut, The United States   \n",
       "3                                Belfast, Ireland   \n",
       "4             Anoka, Minnesota, The United States   \n",
       "5      Somersby, Lincolnshire, The United Kingdom   \n",
       "\n",
       "                                             description  \n",
       "index                                                     \n",
       "1      Anna Eleanor Roosevelt was an American politic...  \n",
       "2      Librarian Note: There is more than one author ...  \n",
       "3      CLIVE STAPLES LEWIS (1898–1963) was one of the...  \n",
       "4      Garrison Keillor (born Gary Edward Keillor on ...  \n",
       "5      Alfred Tennyson was born in Somersby, Lincolns...  "
      ]
     },
     "execution_count": 27,
     "metadata": {},
     "output_type": "execute_result"
    }
   ],
   "source": [
    "# Each author has a biography page. We can get that info too.\n",
    "# This will get all the unique authors biography links\n",
    "unique_links_biographies = set(df[\"author_biography_link\"])\n",
    "print(\"total of biographical pages:\",\n",
    "      len(unique_links_biographies),\n",
    "      \"\\n\")\n",
    "\n",
    "# Open CSV file\n",
    "file = open(\"authors_info.csv\",\n",
    "            \"w\",\n",
    "            encoding = \"UTF-8\",\n",
    "            newline = \"\")\n",
    "\n",
    "# Create writer object from csv module\n",
    "csv_writer = csv.writer(file)\n",
    "\n",
    "# Initialize list of lists with data rows:\n",
    "rows = [\n",
    "    [\"index\", \"name\", \"born_date\",\n",
    "     \"born_location\", \"description\"]\n",
    "]\n",
    "\n",
    "\n",
    "# Now we can loop over these biography links and save their info in a CSV\n",
    "for link in unique_links_biographies:\n",
    "    driver.get(link)\n",
    "    time.sleep(3)\n",
    "    \n",
    "    index = len(rows)\n",
    "    name = driver.find_element_by_css_selector(\"h3.author-title\").text\n",
    "    born_date = driver.find_element_by_css_selector(\"span.author-born-date\").text\n",
    "    born_location = driver.find_element_by_css_selector(\"span.author-born-location\").text\n",
    "    description = driver.find_element_by_css_selector(\"div.author-description\").text\n",
    "    \n",
    "    print(index, \"of\", len(unique_links_biographies))\n",
    "    \n",
    "    row = [index, name, born_date,\n",
    "           born_location[3:], description]\n",
    "    \n",
    "    rows.append(row) \n",
    "\n",
    "print(\"\\nwe reached the last page\")\n",
    "return_to_main_page()\n",
    "print(\"back to page 1\\n\")\n",
    "\n",
    "# Write rows to the CSV file and close it\n",
    "csv_writer.writerows(rows)\n",
    "file.close()\n",
    "\n",
    "# Show first rows from the scraped data\n",
    "df = pd.read_csv(\"authors_info.csv\", index_col=\"index\")\n",
    "print(\"data frame dimensions:\", df.shape)\n",
    "df.head()"
   ]
  },
  {
   "cell_type": "code",
   "execution_count": 28,
   "metadata": {},
   "outputs": [],
   "source": [
    "# Now we go back to the login page and play a little with the text input boxes.\n",
    "\n",
    "# Go to the login page\n",
    "login_xpath = \"/html/body/div/div[1]/div[2]/p/a\"\n",
    "driver.find_element_by_xpath(login_xpath).click()\n",
    "\n",
    "# Save the text input boxes elements in variables, using their id (two forms):\n",
    "username_input = driver.find_element_by_id(\"username\") \n",
    "password_input = driver.find_element_by_css_selector(\"#password\")"
   ]
  },
  {
   "cell_type": "code",
   "execution_count": 29,
   "metadata": {},
   "outputs": [],
   "source": [
    "# Username and password values\n",
    "# (one can also use base::readline() or getPass::getPass() \n",
    "# to ask for user input)\n",
    "username = \"Fabrício\"\n",
    "password = \"1234 is not a secure password!\"\n",
    "\n",
    "# When dealing with input boxes, it is good practice to clear their value first\n",
    "username_input.clear()\n",
    "\n",
    "# Send the username information (it needs to be passed as a list)\n",
    "username_input.send_keys(username)\n",
    "\n",
    "# Do the same with password\n",
    "password_input.clear()\n",
    "password_input.send_keys(password)\n",
    "time.sleep(2)\n",
    "\n",
    "# Once you don't need the username and password variables anymore, delete them\n",
    "del username, password"
   ]
  },
  {
   "cell_type": "code",
   "execution_count": 30,
   "metadata": {},
   "outputs": [],
   "source": [
    "# Find the submit button\n",
    "submit_button = driver.find_element_by_css_selector (\"input.btn.btn-primary\")\n",
    "\n",
    "# Use the submit() method to submit the form information\n",
    "submit_button.submit()"
   ]
  },
  {
   "cell_type": "code",
   "execution_count": 31,
   "metadata": {},
   "outputs": [],
   "source": [
    "# let's go to another page and learn more about how to manipulate forms\n",
    "url = \"http://httpbin.org/forms/post\"\n",
    "driver.get(url)\n",
    "time.sleep(3)"
   ]
  },
  {
   "cell_type": "code",
   "execution_count": 32,
   "metadata": {},
   "outputs": [],
   "source": [
    "############# CHALLENGE ################\n",
    "# Ask a pizza using the form.\n",
    "# Use RSelenium to do that.\n",
    "# Provide fictional data and order the following kind of pizza:\n",
    "# * large size\n",
    "# * bacon, extra cheese and mushroom toppings\n",
    "# * 19h45 delivery time\n",
    "# * give some delivery instructions\n",
    "# \n",
    "# Then hit the submit button.\n",
    "# You will see a JSON page with your orders info.\n",
    "# \n",
    "# You can tell the browser to go back to the order page\n",
    "# and play with it again.\n",
    "#\n",
    "# Can you make a code to automate ordering \n",
    "# 20 different pizzas?\n",
    "# Try it yourself. You most certainly can!\n",
    "########################################"
   ]
  },
  {
   "cell_type": "code",
   "execution_count": 34,
   "metadata": {},
   "outputs": [],
   "source": [
    "# This code choose the large option in the radio buttons\n",
    "radio_buttons = driver.find_elements_by_css_selector('input[type=\"radio\"]')\n",
    "radio_buttons[-1].click()\n",
    "\n",
    "# Choose the first, second and fourth toppings to your pizza\n",
    "checkboxes = driver.find_elements_by_css_selector('input[name=\"topping\"]')\n",
    "[element.click() for index, element in enumerate(checkboxes) if index != 2]\n",
    "\n",
    "# Set delivery time to 19h45\n",
    "clock = driver.find_element_by_css_selector('input[type=\"time\"]')\n",
    "clock.send_keys(\"19:45\")\n",
    "\n",
    "poetry = \"\"\"Two households, both alike in dignity\\n\n",
    "(In fair Verona, where we lay our scene),\\n\n",
    "From ancient grudge break to new mutiny,\\n\n",
    "Where civil blood makes civil hands unclean.\\n\n",
    "From forth the fatal loins of these two foes\\n\n",
    "A pair of star-crossed lovers take their life;\\n\n",
    "Whose misadventured piteous overthrows\\n\n",
    "Doth with their death bury their parents’ strife.\\n\n",
    "The fearful passage of their death-marked love\\n\n",
    "And the continuance of their parents’ rage,\\n\n",
    "Which, but their children’s end, naught could remove,\\n\n",
    "Is now the two hours’ traffic of our stage;\\n\n",
    "The which, if you with patient ears attend,\\n\n",
    "What here shall miss, our toil shall strive to mend.\\n\"\"\"\n",
    "\n",
    "# Send aditional information to the textarea input\n",
    "textarea = driver.find_element_by_tag_name(\"textarea\")\n",
    "textarea.send_keys(poetry)\n",
    "\n",
    "# Submit form and go back\n",
    "driver.find_element_by_css_selector(\"p > button\").submit()\n",
    "time.sleep(5)\n",
    "\n",
    "driver.back()\n",
    "\n",
    "# Refresh the form page:\n",
    "driver.refresh()"
   ]
  },
  {
   "cell_type": "code",
   "execution_count": 35,
   "metadata": {},
   "outputs": [],
   "source": [
    "# When you are done working with selenium, \n",
    "# Quit the browser and end the session\n",
    "driver.quit()\n",
    "del driver"
   ]
  }
 ],
 "metadata": {
  "kernelspec": {
   "display_name": "Python 3",
   "language": "python",
   "name": "python3"
  },
  "language_info": {
   "codemirror_mode": {
    "name": "ipython",
    "version": 3
   },
   "file_extension": ".py",
   "mimetype": "text/x-python",
   "name": "python",
   "nbconvert_exporter": "python",
   "pygments_lexer": "ipython3",
   "version": "3.8.5"
  }
 },
 "nbformat": 4,
 "nbformat_minor": 4
}
