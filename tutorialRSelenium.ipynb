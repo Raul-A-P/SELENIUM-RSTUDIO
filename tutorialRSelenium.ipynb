{
 "cells": [
  {
   "cell_type": "code",
   "execution_count": 1,
   "metadata": {},
   "outputs": [
    {
     "name": "stderr",
     "output_type": "stream",
     "text": [
      "-- \u001b[1mAttaching packages\u001b[22m ---------------------------------- tidyverse 1.3.1 --\n",
      "\n",
      "\u001b[32mv\u001b[39m \u001b[34mggplot2\u001b[39m 3.3.3     \u001b[32mv\u001b[39m \u001b[34mpurrr  \u001b[39m 0.3.4\n",
      "\u001b[32mv\u001b[39m \u001b[34mtibble \u001b[39m 3.1.1     \u001b[32mv\u001b[39m \u001b[34mdplyr  \u001b[39m 1.0.6\n",
      "\u001b[32mv\u001b[39m \u001b[34mtidyr  \u001b[39m 1.1.3     \u001b[32mv\u001b[39m \u001b[34mstringr\u001b[39m 1.4.0\n",
      "\u001b[32mv\u001b[39m \u001b[34mreadr  \u001b[39m 1.4.0     \u001b[32mv\u001b[39m \u001b[34mforcats\u001b[39m 0.5.1\n",
      "\n",
      "-- \u001b[1mConflicts\u001b[22m ------------------------------------- tidyverse_conflicts() --\n",
      "\u001b[31mx\u001b[39m \u001b[34mdplyr\u001b[39m::\u001b[32mfilter()\u001b[39m masks \u001b[34mstats\u001b[39m::filter()\n",
      "\u001b[31mx\u001b[39m \u001b[34mdplyr\u001b[39m::\u001b[32mlag()\u001b[39m    masks \u001b[34mstats\u001b[39m::lag()\n",
      "\n"
     ]
    }
   ],
   "source": [
    "# Import libraries\n",
    "library(\"RSelenium\")\n",
    "library(\"tidyverse\")\n",
    "library(\"getPass\")\n",
    "\n",
    "# This line makes R show messages in English.\n",
    "# Use \"pt\" if you want them to be displayed in Portuguese\n",
    "Sys.setenv(\"LANG\" = \"en\")"
   ]
  },
  {
   "cell_type": "code",
   "execution_count": 2,
   "metadata": {},
   "outputs": [],
   "source": [
    "# Customized function to check class() and typeof() at once:\n",
    "check_object <- function(object) {\n",
    "    cat(\"\\nclass: \",\n",
    "        class(object),\n",
    "        \"\\ntypeof: \",\n",
    "        typeof(object),\n",
    "        \"\\n\")\n",
    "}"
   ]
  },
  {
   "cell_type": "code",
   "execution_count": 3,
   "metadata": {},
   "outputs": [
    {
     "name": "stdout",
     "output_type": "stream",
     "text": [
      "\n",
      "class:  rsClientServer environment \n",
      "typeof:  environment \n"
     ]
    }
   ],
   "source": [
    "# Create rsClientServer object with Google Chrome browser.\n",
    "# Change the chromever argument for the Chrome version used in your machine\n",
    "client_server <- RSelenium::rsDriver(browser=c(\"chrome\"), \n",
    "                                     chromever=\"91.0.4472.101\", \n",
    "                                     port=4545L, \n",
    "                                     verbose=F)\n",
    "check_object(client_server)"
   ]
  },
  {
   "cell_type": "code",
   "execution_count": 4,
   "metadata": {},
   "outputs": [
    {
     "name": "stdout",
     "output_type": "stream",
     "text": [
      "\n",
      "class:  remoteDriver \n",
      "typeof:  S4 \n"
     ]
    }
   ],
   "source": [
    "# Save the remoteDriver object in the computational variable called \"driver\"\n",
    "driver <- client_server[[\"client\"]]\n",
    "check_object(driver)"
   ]
  },
  {
   "cell_type": "code",
   "execution_count": 5,
   "metadata": {},
   "outputs": [],
   "source": [
    "# Navigate to the page to be scraped\n",
    "url <- \"https://quotes.toscrape.com/\"\n",
    "driver$navigate(url)"
   ]
  },
  {
   "cell_type": "code",
   "execution_count": 6,
   "metadata": {},
   "outputs": [
    {
     "data": {
      "text/html": [
       "<ol>\n",
       "\t<li>'https://quotes.toscrape.com/'</li>\n",
       "</ol>\n"
      ],
      "text/latex": [
       "\\begin{enumerate}\n",
       "\\item 'https://quotes.toscrape.com/'\n",
       "\\end{enumerate}\n"
      ],
      "text/markdown": [
       "1. 'https://quotes.toscrape.com/'\n",
       "\n",
       "\n"
      ],
      "text/plain": [
       "[[1]]\n",
       "[1] \"https://quotes.toscrape.com/\"\n"
      ]
     },
     "metadata": {},
     "output_type": "display_data"
    }
   ],
   "source": [
    "# Get the current url\n",
    "driver$getCurrentUrl()\n",
    "\n",
    "# Maximize window\n",
    "driver$maxWindowSize()"
   ]
  },
  {
   "cell_type": "code",
   "execution_count": 7,
   "metadata": {},
   "outputs": [],
   "source": [
    "# This line is very important: comment it out and run it if your Selenium \n",
    "# remoteDriver crashes and you can't open another one in the same port\n",
    "\n",
    "\n",
    "# system(\"taskkill /im java.exe /f\", intern=FALSE, ignore.stdout=FALSE)"
   ]
  },
  {
   "cell_type": "code",
   "execution_count": 8,
   "metadata": {},
   "outputs": [
    {
     "data": {
      "text/html": [
       "<pre class=language-r><code>new(\"refMethodDef\", .Data = function (using = c(\"xpath\", \"css selector\", \n",
       "<span style=white-space:pre-wrap>    \"id\", \"name\", \"tag name\", \"class name\", \"link text\", \"partial link text\"), </span>\n",
       "<span style=white-space:pre-wrap>    value) </span>\n",
       "{\n",
       "<span style=white-space:pre-wrap>    \"Search for an element on the page, starting from the document\\n        root. The located element will be returned as an object of\\n        webElement class.The inputs are:\\n        \\\\describe{\\n          \\\\item{\\\\code{using}:}{Locator scheme to use to search the\\n            element, available schemes: Defaults to 'xpath'. Partial\\n            string matching is accepted.\\n            \\\\describe{\\n              \\\\item{\\\"class name\\\" :}{Returns an element whose class name\\n                contains the search value; compound class names are not\\n                permitted.}\\n              \\\\item{\\\"css selector\\\" :}{Returns an element matching a CSS\\n                selector.}\\n              \\\\item{\\\"id\\\" :}{Returns an element whose ID attribute\\n                matches the search value.}\\n              \\\\item{\\\"name\\\" :}{Returns an element whose NAME attribute\\n                matches the search value.}\\n              \\\\item{\\\"link text\\\" :}{Returns an anchor element whose\\n                visible text matches the search value.}\\n              \\\\item{\\\"partial link text\\\" :}{Returns an anchor element\\n                whose visible text partially matches the search value.}\\n              \\\\item{\\\"tag name\\\" :}{Returns an element whose tag name\\n                matches the search value.}\\n              \\\\item{\\\"xpath\\\" :}{Returns an element matching an XPath\\n                expression.}\\n            }\\n          }\\n          \\\\item{\\\\code{value}:}{The search target. See examples.}\\n        }\"</span>\n",
       "<span style=white-space:pre-wrap>    using &lt;- match.arg(using)</span>\n",
       "<span style=white-space:pre-wrap>    qpath &lt;- sprintf(\"%s/session/%s/element\", serverURL, sessionInfo[[\"id\"]])</span>\n",
       "<span style=white-space:pre-wrap>    queryRD(qpath, \"POST\", qdata = list(using = using, value = value))</span>\n",
       "<span style=white-space:pre-wrap>    elemDetails &lt;- .self$value[[1]]</span>\n",
       "<span style=white-space:pre-wrap>    webElement$new(as.character(elemDetails))$import(.self)</span>\n",
       "}, mayCall = \"queryRD\", name = \"findElement\", refClassName = \"remoteDriver\", \n",
       "<span style=white-space:pre-wrap>    superClassMethod = \"\")</span></code></pre>"
      ],
      "text/latex": [
       "\\begin{minted}{r}\n",
       "new(\"refMethodDef\", .Data = function (using = c(\"xpath\", \"css selector\", \n",
       "    \"id\", \"name\", \"tag name\", \"class name\", \"link text\", \"partial link text\"), \n",
       "    value) \n",
       "\\{\n",
       "    \"Search for an element on the page, starting from the document\\textbackslash{}n        root. The located element will be returned as an object of\\textbackslash{}n        webElement class.The inputs are:\\textbackslash{}n        \\textbackslash{}\\textbackslash{}describe\\{\\textbackslash{}n          \\textbackslash{}\\textbackslash{}item\\{\\textbackslash{}\\textbackslash{}code\\{using\\}:\\}\\{Locator scheme to use to search the\\textbackslash{}n            element, available schemes: Defaults to 'xpath'. Partial\\textbackslash{}n            string matching is accepted.\\textbackslash{}n            \\textbackslash{}\\textbackslash{}describe\\{\\textbackslash{}n              \\textbackslash{}\\textbackslash{}item\\{\\textbackslash{}\"class name\\textbackslash{}\" :\\}\\{Returns an element whose class name\\textbackslash{}n                contains the search value; compound class names are not\\textbackslash{}n                permitted.\\}\\textbackslash{}n              \\textbackslash{}\\textbackslash{}item\\{\\textbackslash{}\"css selector\\textbackslash{}\" :\\}\\{Returns an element matching a CSS\\textbackslash{}n                selector.\\}\\textbackslash{}n              \\textbackslash{}\\textbackslash{}item\\{\\textbackslash{}\"id\\textbackslash{}\" :\\}\\{Returns an element whose ID attribute\\textbackslash{}n                matches the search value.\\}\\textbackslash{}n              \\textbackslash{}\\textbackslash{}item\\{\\textbackslash{}\"name\\textbackslash{}\" :\\}\\{Returns an element whose NAME attribute\\textbackslash{}n                matches the search value.\\}\\textbackslash{}n              \\textbackslash{}\\textbackslash{}item\\{\\textbackslash{}\"link text\\textbackslash{}\" :\\}\\{Returns an anchor element whose\\textbackslash{}n                visible text matches the search value.\\}\\textbackslash{}n              \\textbackslash{}\\textbackslash{}item\\{\\textbackslash{}\"partial link text\\textbackslash{}\" :\\}\\{Returns an anchor element\\textbackslash{}n                whose visible text partially matches the search value.\\}\\textbackslash{}n              \\textbackslash{}\\textbackslash{}item\\{\\textbackslash{}\"tag name\\textbackslash{}\" :\\}\\{Returns an element whose tag name\\textbackslash{}n                matches the search value.\\}\\textbackslash{}n              \\textbackslash{}\\textbackslash{}item\\{\\textbackslash{}\"xpath\\textbackslash{}\" :\\}\\{Returns an element matching an XPath\\textbackslash{}n                expression.\\}\\textbackslash{}n            \\}\\textbackslash{}n          \\}\\textbackslash{}n          \\textbackslash{}\\textbackslash{}item\\{\\textbackslash{}\\textbackslash{}code\\{value\\}:\\}\\{The search target. See examples.\\}\\textbackslash{}n        \\}\"\n",
       "    using <- match.arg(using)\n",
       "    qpath <- sprintf(\"\\%s/session/\\%s/element\", serverURL, sessionInfo{[}{[}\"id\"{]}{]})\n",
       "    queryRD(qpath, \"POST\", qdata = list(using = using, value = value))\n",
       "    elemDetails <- .self\\$value{[}{[}1{]}{]}\n",
       "    webElement\\$new(as.character(elemDetails))\\$import(.self)\n",
       "\\}, mayCall = \"queryRD\", name = \"findElement\", refClassName = \"remoteDriver\", \n",
       "    superClassMethod = \"\")\n",
       "\\end{minted}"
      ],
      "text/markdown": [
       "```r\n",
       "new(\"refMethodDef\", .Data = function (using = c(\"xpath\", \"css selector\", \n",
       "    \"id\", \"name\", \"tag name\", \"class name\", \"link text\", \"partial link text\"), \n",
       "    value) \n",
       "{\n",
       "    \"Search for an element on the page, starting from the document\\n        root. The located element will be returned as an object of\\n        webElement class.The inputs are:\\n        \\\\describe{\\n          \\\\item{\\\\code{using}:}{Locator scheme to use to search the\\n            element, available schemes: Defaults to 'xpath'. Partial\\n            string matching is accepted.\\n            \\\\describe{\\n              \\\\item{\\\"class name\\\" :}{Returns an element whose class name\\n                contains the search value; compound class names are not\\n                permitted.}\\n              \\\\item{\\\"css selector\\\" :}{Returns an element matching a CSS\\n                selector.}\\n              \\\\item{\\\"id\\\" :}{Returns an element whose ID attribute\\n                matches the search value.}\\n              \\\\item{\\\"name\\\" :}{Returns an element whose NAME attribute\\n                matches the search value.}\\n              \\\\item{\\\"link text\\\" :}{Returns an anchor element whose\\n                visible text matches the search value.}\\n              \\\\item{\\\"partial link text\\\" :}{Returns an anchor element\\n                whose visible text partially matches the search value.}\\n              \\\\item{\\\"tag name\\\" :}{Returns an element whose tag name\\n                matches the search value.}\\n              \\\\item{\\\"xpath\\\" :}{Returns an element matching an XPath\\n                expression.}\\n            }\\n          }\\n          \\\\item{\\\\code{value}:}{The search target. See examples.}\\n        }\"\n",
       "    using <- match.arg(using)\n",
       "    qpath <- sprintf(\"%s/session/%s/element\", serverURL, sessionInfo[[\"id\"]])\n",
       "    queryRD(qpath, \"POST\", qdata = list(using = using, value = value))\n",
       "    elemDetails <- .self$value[[1]]\n",
       "    webElement$new(as.character(elemDetails))$import(.self)\n",
       "}, mayCall = \"queryRD\", name = \"findElement\", refClassName = \"remoteDriver\", \n",
       "    superClassMethod = \"\")\n",
       "```"
      ],
      "text/plain": [
       "new(\"refMethodDef\", .Data = function (using = c(\"xpath\", \"css selector\", \n",
       "    \"id\", \"name\", \"tag name\", \"class name\", \"link text\", \"partial link text\"), \n",
       "    value) \n",
       "{\n",
       "    \"Search for an element on the page, starting from the document\\n        root. The located element will be returned as an object of\\n        webElement class.The inputs are:\\n        \\\\describe{\\n          \\\\item{\\\\code{using}:}{Locator scheme to use to search the\\n            element, available schemes: Defaults to 'xpath'. Partial\\n            string matching is accepted.\\n            \\\\describe{\\n              \\\\item{\\\"class name\\\" :}{Returns an element whose class name\\n                contains the search value; compound class names are not\\n                permitted.}\\n              \\\\item{\\\"css selector\\\" :}{Returns an element matching a CSS\\n                selector.}\\n              \\\\item{\\\"id\\\" :}{Returns an element whose ID attribute\\n                matches the search value.}\\n              \\\\item{\\\"name\\\" :}{Returns an element whose NAME attribute\\n                matches the search value.}\\n              \\\\item{\\\"link text\\\" :}{Returns an anchor element whose\\n                visible text matches the search value.}\\n              \\\\item{\\\"partial link text\\\" :}{Returns an anchor element\\n                whose visible text partially matches the search value.}\\n              \\\\item{\\\"tag name\\\" :}{Returns an element whose tag name\\n                matches the search value.}\\n              \\\\item{\\\"xpath\\\" :}{Returns an element matching an XPath\\n                expression.}\\n            }\\n          }\\n          \\\\item{\\\\code{value}:}{The search target. See examples.}\\n        }\"\n",
       "    using <- match.arg(using)\n",
       "    qpath <- sprintf(\"%s/session/%s/element\", serverURL, sessionInfo[[\"id\"]])\n",
       "    queryRD(qpath, \"POST\", qdata = list(using = using, value = value))\n",
       "    elemDetails <- .self$value[[1]]\n",
       "    webElement$new(as.character(elemDetails))$import(.self)\n",
       "}, mayCall = \"queryRD\", name = \"findElement\", refClassName = \"remoteDriver\", \n",
       "    superClassMethod = \"\")\n",
       "<environment: 0x000000002289f5f8>\n",
       "attr(,\"mayCall\")\n",
       "[1] \"queryRD\"\n",
       "attr(,\"name\")\n",
       "[1] \"findElement\"\n",
       "attr(,\"refClassName\")\n",
       "[1] \"remoteDriver\"\n",
       "attr(,\"superClassMethod\")\n",
       "[1] \"\"\n",
       "attr(,\"class\")\n",
       "[1] \"refMethodDef\"\n",
       "attr(,\"class\")attr(,\"package\")\n",
       "[1] \"methods\""
      ]
     },
     "metadata": {},
     "output_type": "display_data"
    }
   ],
   "source": [
    "driver$findElement"
   ]
  },
  {
   "cell_type": "code",
   "execution_count": 9,
   "metadata": {},
   "outputs": [
    {
     "name": "stdout",
     "output_type": "stream",
     "text": [
      "\n",
      "class:  webElement \n",
      "typeof:  S4 \n"
     ]
    }
   ],
   "source": [
    "# Get the login link element by using xpath\n",
    "login_xpath <- \"/html/body/div/div[1]/div[2]/p/a\"\n",
    "login_link <- driver$findElement(using = \"xpath\", value = login_xpath)\n",
    "check_object(login_link)"
   ]
  },
  {
   "cell_type": "code",
   "execution_count": 10,
   "metadata": {},
   "outputs": [
    {
     "data": {
      "text/html": [
       "<ol>\n",
       "\t<li>'a'</li>\n",
       "</ol>\n"
      ],
      "text/latex": [
       "\\begin{enumerate}\n",
       "\\item 'a'\n",
       "\\end{enumerate}\n"
      ],
      "text/markdown": [
       "1. 'a'\n",
       "\n",
       "\n"
      ],
      "text/plain": [
       "[[1]]\n",
       "[1] \"a\"\n"
      ]
     },
     "metadata": {},
     "output_type": "display_data"
    },
    {
     "data": {
      "text/html": [
       "<ol>\n",
       "\t<li>'Login'</li>\n",
       "</ol>\n"
      ],
      "text/latex": [
       "\\begin{enumerate}\n",
       "\\item 'Login'\n",
       "\\end{enumerate}\n"
      ],
      "text/markdown": [
       "1. 'Login'\n",
       "\n",
       "\n"
      ],
      "text/plain": [
       "[[1]]\n",
       "[1] \"Login\"\n"
      ]
     },
     "metadata": {},
     "output_type": "display_data"
    },
    {
     "data": {
      "text/html": [
       "<ol>\n",
       "\t<li>'https://quotes.toscrape.com/login'</li>\n",
       "</ol>\n"
      ],
      "text/latex": [
       "\\begin{enumerate}\n",
       "\\item 'https://quotes.toscrape.com/login'\n",
       "\\end{enumerate}\n"
      ],
      "text/markdown": [
       "1. 'https://quotes.toscrape.com/login'\n",
       "\n",
       "\n"
      ],
      "text/plain": [
       "[[1]]\n",
       "[1] \"https://quotes.toscrape.com/login\"\n"
      ]
     },
     "metadata": {},
     "output_type": "display_data"
    }
   ],
   "source": [
    "# This method returns the element tag name\n",
    "login_link$getElementTagName()\n",
    "\n",
    "# This method returns the element inner text\n",
    "login_link$getElementText()\n",
    "\n",
    "# This method returns an element attribute (in this case, \"href\")\n",
    "login_link$getElementAttribute(\"href\")"
   ]
  },
  {
   "cell_type": "code",
   "execution_count": 11,
   "metadata": {},
   "outputs": [],
   "source": [
    "# Click on the element\n",
    "login_link$clickElement()"
   ]
  },
  {
   "cell_type": "code",
   "execution_count": 12,
   "metadata": {},
   "outputs": [
    {
     "name": "stdout",
     "output_type": "stream",
     "text": [
      "ok"
     ]
    }
   ],
   "source": [
    "# Go back to the last page and wait 2.5 seconds\n",
    "driver$goBack()\n",
    "Sys.sleep(2.5)\n",
    "cat(\"ok\")"
   ]
  },
  {
   "cell_type": "code",
   "execution_count": 13,
   "metadata": {},
   "outputs": [
    {
     "name": "stdout",
     "output_type": "stream",
     "text": [
      "ok"
     ]
    }
   ],
   "source": [
    "# Go forward in the browser history and wait 2 seconds\n",
    "driver$goForward()\n",
    "Sys.sleep(2)\n",
    "cat(\"ok\")"
   ]
  },
  {
   "cell_type": "code",
   "execution_count": 14,
   "metadata": {},
   "outputs": [
    {
     "name": "stdout",
     "output_type": "stream",
     "text": [
      "\n",
      "class:  webElement \n",
      "typeof:  S4 \n"
     ]
    }
   ],
   "source": [
    "# This code uses a css selector to get the link to the main page\n",
    "css_selector <- \"div.header-box.row > div.col-md-8 > h1 > a\"\n",
    "main_page_link <- driver$findElement(\"css selector\", css_selector)\n",
    "check_object(main_page_link)"
   ]
  },
  {
   "cell_type": "code",
   "execution_count": 15,
   "metadata": {},
   "outputs": [
    {
     "data": {
      "text/html": [
       "<ol>\n",
       "\t<li>'a'</li>\n",
       "</ol>\n"
      ],
      "text/latex": [
       "\\begin{enumerate}\n",
       "\\item 'a'\n",
       "\\end{enumerate}\n"
      ],
      "text/markdown": [
       "1. 'a'\n",
       "\n",
       "\n"
      ],
      "text/plain": [
       "[[1]]\n",
       "[1] \"a\"\n"
      ]
     },
     "metadata": {},
     "output_type": "display_data"
    },
    {
     "data": {
      "text/html": [
       "<ol>\n",
       "\t<li>'Quotes to Scrape'</li>\n",
       "</ol>\n"
      ],
      "text/latex": [
       "\\begin{enumerate}\n",
       "\\item 'Quotes to Scrape'\n",
       "\\end{enumerate}\n"
      ],
      "text/markdown": [
       "1. 'Quotes to Scrape'\n",
       "\n",
       "\n"
      ],
      "text/plain": [
       "[[1]]\n",
       "[1] \"Quotes to Scrape\"\n"
      ]
     },
     "metadata": {},
     "output_type": "display_data"
    },
    {
     "data": {
      "text/html": [
       "<ol>\n",
       "\t<li>'text-decoration: none;'</li>\n",
       "</ol>\n"
      ],
      "text/latex": [
       "\\begin{enumerate}\n",
       "\\item 'text-decoration: none;'\n",
       "\\end{enumerate}\n"
      ],
      "text/markdown": [
       "1. 'text-decoration: none;'\n",
       "\n",
       "\n"
      ],
      "text/plain": [
       "[[1]]\n",
       "[1] \"text-decoration: none;\"\n"
      ]
     },
     "metadata": {},
     "output_type": "display_data"
    }
   ],
   "source": [
    "# Get the element info\n",
    "main_page_link$getElementTagName()\n",
    "main_page_link$getElementText()\n",
    "main_page_link$getElementAttribute(\"style\")\n",
    "\n",
    "# Click on the link\n",
    "main_page_link$clickElement()"
   ]
  },
  {
   "cell_type": "code",
   "execution_count": 16,
   "metadata": {},
   "outputs": [],
   "source": [
    "# This function makes the browser return to the main page\n",
    "return_to_main_page <- function() {\n",
    "    css_selector <- \"div.header-box.row > div.col-md-8 > h1 > a\"\n",
    "    driver$findElement(\"css selector\", css_selector)$clickElement()\n",
    "}"
   ]
  },
  {
   "cell_type": "code",
   "execution_count": 17,
   "metadata": {},
   "outputs": [
    {
     "name": "stdout",
     "output_type": "stream",
     "text": [
      "number of links in main page:  55 \n",
      "\n",
      "object all_links_page_1 \n",
      "\n",
      "class:  list \n",
      "typeof:  list \n",
      "\n",
      "\n",
      "seventh object in all_links_page_1 list:\n",
      "\n",
      "class:  webElement \n",
      "typeof:  S4 \n"
     ]
    }
   ],
   "source": [
    "# The method findElements() returns a list of Web Elements.\n",
    "# This code finds all links in page 1 by using the tag name\n",
    "return_to_main_page()\n",
    "\n",
    "all_links_page_1 <- driver$findElements(\"tag name\", \"a\")\n",
    "\n",
    "cat(paste(\"number of links in main page: \",\n",
    "          length(all_links_page_1),\n",
    "          \"\\n\\n\")\n",
    "   )\n",
    "\n",
    "cat(\"object\", quote(all_links_page_1), \"\\n\")\n",
    "check_object(all_links_page_1)\n",
    "\n",
    "cat(\"\\n\\nseventh object in\", quote(all_links_page_1), \"list:\\n\")\n",
    "check_object(all_links_page_1[[7]])"
   ]
  },
  {
   "cell_type": "code",
   "execution_count": 18,
   "metadata": {},
   "outputs": [],
   "source": [
    "# The function below, when used in a webElement with the \"a\" tag name,\n",
    "# returns the link inner text and its url.\n",
    "# Both info are also printed on the console if print_output = TRUE\n",
    "show_links_info <- function(link_element, print_output = TRUE) {\n",
    "    text <- as.character(link_element$getElementText())\n",
    "    url <- as.character(link_element$getElementAttribute(\"href\"))\n",
    "    if (print_output) {\n",
    "        cat(paste0(text, \": \"),\n",
    "            url,\n",
    "            \"\\n\")\n",
    "        # line below makes the info be displayed during iteration\n",
    "        flush.console()\n",
    "    }\n",
    "        \n",
    "    c(text, url)\n",
    "}"
   ]
  },
  {
   "cell_type": "code",
   "execution_count": 19,
   "metadata": {},
   "outputs": [
    {
     "name": "stdout",
     "output_type": "stream",
     "text": [
      "Quotes to Scrape:  https://quotes.toscrape.com/ \n",
      "Login:  https://quotes.toscrape.com/login \n",
      "(about):  https://quotes.toscrape.com/author/Albert-Einstein \n",
      "change:  https://quotes.toscrape.com/tag/change/page/1/ \n",
      "deep-thoughts:  https://quotes.toscrape.com/tag/deep-thoughts/page/1/ \n",
      "thinking:  https://quotes.toscrape.com/tag/thinking/page/1/ \n",
      "world:  https://quotes.toscrape.com/tag/world/page/1/ \n",
      "(about):  https://quotes.toscrape.com/author/J-K-Rowling \n",
      "abilities:  https://quotes.toscrape.com/tag/abilities/page/1/ \n",
      "choices:  https://quotes.toscrape.com/tag/choices/page/1/ \n",
      "(about):  https://quotes.toscrape.com/author/Albert-Einstein \n",
      "inspirational:  https://quotes.toscrape.com/tag/inspirational/page/1/ \n",
      "life:  https://quotes.toscrape.com/tag/life/page/1/ \n",
      "live:  https://quotes.toscrape.com/tag/live/page/1/ \n",
      "miracle:  https://quotes.toscrape.com/tag/miracle/page/1/ \n",
      "miracles:  https://quotes.toscrape.com/tag/miracles/page/1/ \n",
      "(about):  https://quotes.toscrape.com/author/Jane-Austen \n",
      "aliteracy:  https://quotes.toscrape.com/tag/aliteracy/page/1/ \n",
      "books:  https://quotes.toscrape.com/tag/books/page/1/ \n",
      "classic:  https://quotes.toscrape.com/tag/classic/page/1/ \n",
      "humor:  https://quotes.toscrape.com/tag/humor/page/1/ \n",
      "(about):  https://quotes.toscrape.com/author/Marilyn-Monroe \n",
      "be-yourself:  https://quotes.toscrape.com/tag/be-yourself/page/1/ \n",
      "inspirational:  https://quotes.toscrape.com/tag/inspirational/page/1/ \n",
      "(about):  https://quotes.toscrape.com/author/Albert-Einstein \n",
      "adulthood:  https://quotes.toscrape.com/tag/adulthood/page/1/ \n",
      "success:  https://quotes.toscrape.com/tag/success/page/1/ \n",
      "value:  https://quotes.toscrape.com/tag/value/page/1/ \n",
      "(about):  https://quotes.toscrape.com/author/Andre-Gide \n",
      "life:  https://quotes.toscrape.com/tag/life/page/1/ \n",
      "love:  https://quotes.toscrape.com/tag/love/page/1/ \n",
      "(about):  https://quotes.toscrape.com/author/Thomas-A-Edison \n",
      "edison:  https://quotes.toscrape.com/tag/edison/page/1/ \n",
      "failure:  https://quotes.toscrape.com/tag/failure/page/1/ \n",
      "inspirational:  https://quotes.toscrape.com/tag/inspirational/page/1/ \n",
      "paraphrased:  https://quotes.toscrape.com/tag/paraphrased/page/1/ \n",
      "(about):  https://quotes.toscrape.com/author/Eleanor-Roosevelt \n",
      "misattributed-eleanor-roosevelt:  https://quotes.toscrape.com/tag/misattributed-eleanor-roosevelt/page/1/ \n",
      "(about):  https://quotes.toscrape.com/author/Steve-Martin \n",
      "humor:  https://quotes.toscrape.com/tag/humor/page/1/ \n",
      "obvious:  https://quotes.toscrape.com/tag/obvious/page/1/ \n",
      "simile:  https://quotes.toscrape.com/tag/simile/page/1/ \n",
      "Next <U+2192>:  https://quotes.toscrape.com/page/2/ \n",
      "love:  https://quotes.toscrape.com/tag/love/ \n",
      "inspirational:  https://quotes.toscrape.com/tag/inspirational/ \n",
      "life:  https://quotes.toscrape.com/tag/life/ \n",
      "humor:  https://quotes.toscrape.com/tag/humor/ \n",
      "books:  https://quotes.toscrape.com/tag/books/ \n",
      "reading:  https://quotes.toscrape.com/tag/reading/ \n",
      "friendship:  https://quotes.toscrape.com/tag/friendship/ \n",
      "friends:  https://quotes.toscrape.com/tag/friends/ \n",
      "truth:  https://quotes.toscrape.com/tag/truth/ \n",
      "simile:  https://quotes.toscrape.com/tag/simile/ \n",
      "GoodReads.com:  https://www.goodreads.com/quotes \n",
      "Scrapinghub:  https://scrapinghub.com/ \n"
     ]
    }
   ],
   "source": [
    "# Use lapply to apply the show_links_info function to the list with\n",
    "# all the links in the first page\n",
    "saved_list <- lapply(all_links_page_1, show_links_info)"
   ]
  },
  {
   "cell_type": "code",
   "execution_count": 20,
   "metadata": {},
   "outputs": [
    {
     "data": {
      "text/html": [
       "<table class=\"dataframe\">\n",
       "<caption>A data.frame: 3 × 3</caption>\n",
       "<thead>\n",
       "\t<tr><th></th><th scope=col>index</th><th scope=col>text</th><th scope=col>url</th></tr>\n",
       "\t<tr><th></th><th scope=col>&lt;dbl&gt;</th><th scope=col>&lt;chr&gt;</th><th scope=col>&lt;chr&gt;</th></tr>\n",
       "</thead>\n",
       "<tbody>\n",
       "\t<tr><th scope=row>1</th><td>1</td><td>Quotes to Scrape</td><td>https://quotes.toscrape.com/                      </td></tr>\n",
       "\t<tr><th scope=row>2</th><td>2</td><td>Login           </td><td>https://quotes.toscrape.com/login                 </td></tr>\n",
       "\t<tr><th scope=row>3</th><td>3</td><td>(about)         </td><td>https://quotes.toscrape.com/author/Albert-Einstein</td></tr>\n",
       "</tbody>\n",
       "</table>\n"
      ],
      "text/latex": [
       "A data.frame: 3 × 3\n",
       "\\begin{tabular}{r|lll}\n",
       "  & index & text & url\\\\\n",
       "  & <dbl> & <chr> & <chr>\\\\\n",
       "\\hline\n",
       "\t1 & 1 & Quotes to Scrape & https://quotes.toscrape.com/                      \\\\\n",
       "\t2 & 2 & Login            & https://quotes.toscrape.com/login                 \\\\\n",
       "\t3 & 3 & (about)          & https://quotes.toscrape.com/author/Albert-Einstein\\\\\n",
       "\\end{tabular}\n"
      ],
      "text/markdown": [
       "\n",
       "A data.frame: 3 × 3\n",
       "\n",
       "| <!--/--> | index &lt;dbl&gt; | text &lt;chr&gt; | url &lt;chr&gt; |\n",
       "|---|---|---|---|\n",
       "| 1 | 1 | Quotes to Scrape | https://quotes.toscrape.com/                       |\n",
       "| 2 | 2 | Login            | https://quotes.toscrape.com/login                  |\n",
       "| 3 | 3 | (about)          | https://quotes.toscrape.com/author/Albert-Einstein |\n",
       "\n"
      ],
      "text/plain": [
       "  index text             url                                               \n",
       "1 1     Quotes to Scrape https://quotes.toscrape.com/                      \n",
       "2 2     Login            https://quotes.toscrape.com/login                 \n",
       "3 3     (about)          https://quotes.toscrape.com/author/Albert-Einstein"
      ]
     },
     "metadata": {},
     "output_type": "display_data"
    }
   ],
   "source": [
    "# The code below saves all links from page 1 in a dataframe\n",
    "\n",
    "links_dataframe <- data.frame()\n",
    "\n",
    "for (i in 1:length(all_links_page_1)) {\n",
    "    links_info <- show_links_info(all_links_page_1[[i]], print = FALSE)\n",
    "    temp_data_frame <- data.frame(index = nrow(links_dataframe) + 1,\n",
    "                                  text = stringr::str_trim(links_info[1]),\n",
    "                                  url = links_info[2])\n",
    "    links_dataframe <- rbind(links_dataframe, temp_data_frame)\n",
    "}\n",
    "\n",
    "head(links_dataframe, 3)"
   ]
  },
  {
   "cell_type": "code",
   "execution_count": 21,
   "metadata": {},
   "outputs": [
    {
     "name": "stdout",
     "output_type": "stream",
     "text": [
      "\n",
      "page  1\n",
      "page  2\n",
      "page  3\n",
      "page  4\n",
      "page  5\n",
      "page  6\n",
      "page  7\n",
      "page  8\n",
      "page  9\n",
      "page  10\n",
      "we reached the last page\n",
      "back to page 1\n"
     ]
    }
   ],
   "source": [
    "# This code clicks on the \"next\" link and moves along the pages.\n",
    "# When the last page is reached and there is no next link, break the loop.\n",
    "return_to_main_page()\n",
    "i <- 1\n",
    "\n",
    "repeat {\n",
    "    cat(\"\\npage \", i)\n",
    "    flush.console()\n",
    "    i <- i + 1\n",
    "    \n",
    "    next_link_as_list <- driver$findElements(using=\"css selector\", \"li.next > a\")\n",
    "\n",
    "    if (length(next_link_as_list) == 0) {\n",
    "        break\n",
    "    }\n",
    "    \n",
    "    next_link_as_list[[1]]$clickElement()\n",
    "    Sys.sleep(2)\n",
    "    \n",
    "    \n",
    "}\n",
    "\n",
    "cat(\"\\nwe reached the last page\")\n",
    "return_to_main_page()\n",
    "cat(\"\\nback to page 1\\n\")"
   ]
  },
  {
   "cell_type": "code",
   "execution_count": 22,
   "metadata": {},
   "outputs": [],
   "source": [
    "# From the code above, we discovered that there are 10 pages in the website.\n",
    "# The function below goes to a chosen page and it will raise an error\n",
    "# if the argument passed to it is not an integer number between 1 and 10\n",
    "go_to_page <- function(page_number=1) {\n",
    "    if (is.character(page_number)) {\n",
    "        cat(\"Error: you passed a string as argument.\")\n",
    "    }\n",
    "    \n",
    "    if (!is.numeric(page_number) ||\n",
    "        as.integer(page_number) < 1 ||\n",
    "        as.integer(page_number) > 10 ) {\n",
    "        stop(\"Provide an integer number between 1 and 10 as argument\")\n",
    "    }\n",
    "    \n",
    "    if (page_number %% 1 != 0) {\n",
    "        page_number <- trunc(page_number)\n",
    "        cat(quote(page_number), \"truncated to\", page_number)\n",
    "    }\n",
    "    \n",
    "    if (page_number != 1) {\n",
    "        base_url_page <- \"https://quotes.toscrape.com/page/\"\n",
    "        driver$navigate(paste(base_url_page, as.character(page_number), sep=\"\"))    \n",
    "    } else {\n",
    "        return_to_main_page()\n",
    "    }\n",
    "}\n"
   ]
  },
  {
   "cell_type": "code",
   "execution_count": 23,
   "metadata": {},
   "outputs": [
    {
     "data": {
      "text/html": [
       "<ol>\n",
       "\t<li>'https://quotes.toscrape.com/page/3/'</li>\n",
       "</ol>\n"
      ],
      "text/latex": [
       "\\begin{enumerate}\n",
       "\\item 'https://quotes.toscrape.com/page/3/'\n",
       "\\end{enumerate}\n"
      ],
      "text/markdown": [
       "1. 'https://quotes.toscrape.com/page/3/'\n",
       "\n",
       "\n"
      ],
      "text/plain": [
       "[[1]]\n",
       "[1] \"https://quotes.toscrape.com/page/3/\"\n"
      ]
     },
     "metadata": {},
     "output_type": "display_data"
    },
    {
     "data": {
      "text/html": [
       "<ol>\n",
       "\t<li>'https://quotes.toscrape.com/page/7/'</li>\n",
       "</ol>\n"
      ],
      "text/latex": [
       "\\begin{enumerate}\n",
       "\\item 'https://quotes.toscrape.com/page/7/'\n",
       "\\end{enumerate}\n"
      ],
      "text/markdown": [
       "1. 'https://quotes.toscrape.com/page/7/'\n",
       "\n",
       "\n"
      ],
      "text/plain": [
       "[[1]]\n",
       "[1] \"https://quotes.toscrape.com/page/7/\"\n"
      ]
     },
     "metadata": {},
     "output_type": "display_data"
    }
   ],
   "source": [
    "# Go to page 3, wait 2.5 seconds and then go to page 7\n",
    "\n",
    "go_to_page(3)\n",
    "driver$getCurrentUrl()\n",
    "\n",
    "Sys.sleep(2.5)\n",
    "\n",
    "go_to_page(7)\n",
    "driver$getCurrentUrl()"
   ]
  },
  {
   "cell_type": "code",
   "execution_count": 24,
   "metadata": {},
   "outputs": [
    {
     "name": "stdout",
     "output_type": "stream",
     "text": [
      "page_number truncated to 3"
     ]
    },
    {
     "data": {
      "text/html": [
       "<ol>\n",
       "\t<li>'https://quotes.toscrape.com/page/3/'</li>\n",
       "</ol>\n"
      ],
      "text/latex": [
       "\\begin{enumerate}\n",
       "\\item 'https://quotes.toscrape.com/page/3/'\n",
       "\\end{enumerate}\n"
      ],
      "text/markdown": [
       "1. 'https://quotes.toscrape.com/page/3/'\n",
       "\n",
       "\n"
      ],
      "text/plain": [
       "[[1]]\n",
       "[1] \"https://quotes.toscrape.com/page/3/\"\n"
      ]
     },
     "metadata": {},
     "output_type": "display_data"
    }
   ],
   "source": [
    "# This code truncates 3.141592653589793 to 3 and then go to page 3\n",
    "\n",
    "go_to_page(pi)\n",
    "Sys.sleep(2.5)\n",
    "driver$getCurrentUrl()"
   ]
  },
  {
   "cell_type": "code",
   "execution_count": 25,
   "metadata": {},
   "outputs": [
    {
     "name": "stdout",
     "output_type": "stream",
     "text": [
      "Error: you passed a string as argument."
     ]
    },
    {
     "ename": "ERROR",
     "evalue": "Error in go_to_page(\"page number 3\"): Provide an integer number between 1 and 10 as argument\n",
     "output_type": "error",
     "traceback": [
      "Error in go_to_page(\"page number 3\"): Provide an integer number between 1 and 10 as argument\nTraceback:\n",
      "1. go_to_page(\"page number 3\")",
      "2. stop(\"Provide an integer number between 1 and 10 as argument\")   # at line 12 of file <text>"
     ]
    }
   ],
   "source": [
    "# The following function calls will return errors\n",
    "\n",
    "go_to_page(\"page number 3\")\n",
    "go_to_page(\"3\")\n",
    "go_to_page(\"3.1415\")\n",
    "go_to_page(25)\n",
    "go_to_page(97.75)"
   ]
  },
  {
   "cell_type": "code",
   "execution_count": 26,
   "metadata": {},
   "outputs": [
    {
     "name": "stdout",
     "output_type": "stream",
     "text": [
      "https://quotes.toscrape.com/page/10/ \n",
      "10"
     ]
    }
   ],
   "source": [
    "# The code below will extract the page number from page 10\n",
    "go_to_page(10)\n",
    "\n",
    "my_url <- as.character(driver$getCurrentUrl())\n",
    "cat(my_url, \"\\n\")\n",
    "\n",
    "split <- base::strsplit(my_url, \"/\")\n",
    "cat(unlist(split)[length(unlist(split))])\n",
    "\n",
    "return_to_main_page()"
   ]
  },
  {
   "cell_type": "code",
   "execution_count": 27,
   "metadata": {},
   "outputs": [
    {
     "name": "stdout",
     "output_type": "stream",
     "text": [
      "“The world as we have created it is a process of our thinking. It cannot be changed without changing our thinking.”\n",
      "by Albert Einstein (about)\n",
      "Tags: change deep-thoughts thinking world\n",
      "\n",
      " “It is our choices, Harry, that show what we truly are, far more than our abilities.”\n",
      "by J.K. Rowling (about)\n",
      "Tags: abilities choices\n",
      "\n",
      " “There are only two ways to live your life. One is as though nothing is a miracle. The other is as though everything is a miracle.”\n",
      "by Albert Einstein (about)\n",
      "Tags: inspirational life live miracle miracles\n",
      "\n",
      " “The person, be it gentleman or lady, who has not pleasure in a good novel, must be intolerably stupid.”\n",
      "by Jane Austen (about)\n",
      "Tags: aliteracy books classic humor\n",
      "\n",
      " “Imperfection is beauty, madness is genius and it's better to be absolutely ridiculous than absolutely boring.”\n",
      "by Marilyn Monroe (about)\n",
      "Tags: be-yourself inspirational\n",
      "\n",
      " “Try not to become a man of success. Rather become a man of value.”\n",
      "by Albert Einstein (about)\n",
      "Tags: adulthood success value\n",
      "\n",
      " “It is better to be hated for what you are than to be loved for what you are not.”\n",
      "by André Gide (about)\n",
      "Tags: life love\n",
      "\n",
      " “I have not failed. I've just found 10,000 ways that won't work.”\n",
      "by Thomas A. Edison (about)\n",
      "Tags: edison failure inspirational paraphrased\n",
      "\n",
      " “A woman is like a tea bag; you never know how strong it is until it's in hot water.”\n",
      "by Eleanor Roosevelt (about)\n",
      "Tags: misattributed-eleanor-roosevelt\n",
      "\n",
      " “A day without sunshine is like, you know, night.”\n",
      "by Steve Martin (about)\n",
      "Tags: humor obvious simile\n",
      "\n"
     ]
    }
   ],
   "source": [
    "# This code reproduces all the first ten quotes as a long string.\n",
    "# It shows how you can use the getElementText() method to access the\n",
    "# inner text from all children elements at once.\n",
    "string <- \"\"\n",
    "quotes_divs_list <- driver$findElements(\"css selector\", \"div.quote\")\n",
    "string <- unlist(lapply(quotes_divs_list, function(element) {\n",
    "    string <- paste(string, \n",
    "                    as.character(element$getElementText()),\n",
    "                    \"\\n\\n\",\n",
    "                    sep=\"\")\n",
    "    return(string)\n",
    "}))\n",
    "\n",
    "cat(string)"
   ]
  },
  {
   "cell_type": "code",
   "execution_count": 28,
   "metadata": {},
   "outputs": [],
   "source": [
    "# Customized functions to be used in the next sapply() and lapply() calls in this code:\n",
    "get_element_text <- function(element) {\n",
    "    as.character(element$getElementText())\n",
    "}\n",
    "\n",
    "get_link_href <- function(element) {\n",
    "    as.character(element$getElementAttribute(\"href\"))\n",
    "}\n",
    "\n",
    "click_element <- function(element) {\n",
    "    element$clickElement()\n",
    "}"
   ]
  },
  {
   "cell_type": "code",
   "execution_count": 29,
   "metadata": {},
   "outputs": [],
   "source": [
    "# With this code one can get all the info for the quotes in the current page\n",
    "return_to_main_page()\n",
    "quotes_text <- sapply(driver$findElements(\"css selector\", \"span.text\"),\n",
    "                      get_element_text)\n",
    "authors_names <- sapply(driver$findElements(\"css selector\", \"small.author\"),\n",
    "                       get_element_text)\n",
    "authors_links <- sapply(driver$findElements(\"partial link text\", \"(about)\"),\n",
    "                        get_link_href)\n",
    "tags_text <- sapply(driver$findElements(\"css selector\", \"div.tags\"),\n",
    "                    get_element_text)\n"
   ]
  },
  {
   "cell_type": "code",
   "execution_count": 30,
   "metadata": {},
   "outputs": [
    {
     "name": "stdout",
     "output_type": "stream",
     "text": [
      "\n",
      "page 1\n",
      "page 2\n",
      "page 3\n",
      "page 4\n",
      "page 5\n",
      "page 6\n",
      "page 7\n",
      "page 8\n",
      "page 9\n",
      "page 10"
     ]
    }
   ],
   "source": [
    "# Now, we only need to loop over all pages and save the quotes info into a dataframe\n",
    "return_to_main_page()\n",
    "all_quotes <- data.frame()\n",
    "i <- 0\n",
    "\n",
    "while (TRUE) {\n",
    "    quotes_texts <- sapply(driver$findElements(\"css selector\", \"span.text\"),\n",
    "                           get_element_text)\n",
    "    authors_texts <- sapply(driver$findElements(\"css selector\", \"small.author\"),\n",
    "                            get_element_text)\n",
    "    authors_links <- sapply(driver$findElements(\"partial link text\", \"(about)\"),\n",
    "                            get_link_href)\n",
    "    tags_texts <- sapply(driver$findElements(\"css selector\", \"div.tags\"),\n",
    "                         get_element_text)\n",
    "    page_quotes <- data.frame(\"sequence\" = (i * 10 + 1):(i * 10 +10),\n",
    "                              \"quote\" = quotes_texts,\n",
    "                              \"author\" = authors_texts,\n",
    "                              \"author_biography_link\" = authors_links,\n",
    "                              \"tags\" = tags_texts)\n",
    "    \n",
    "    all_quotes <- rbind(all_quotes, page_quotes)\n",
    "    i <- i + 1\n",
    "    cat(\"\\npage\", i)\n",
    "    flush.console()\n",
    "    \n",
    "    try(next_link_as_list <- driver$findElements(using=\"css selector\", \"li.next > a\"),\n",
    "        silent = TRUE)\n",
    "    \n",
    "    if (length(next_link_as_list) == 0) {\n",
    "        break\n",
    "    }\n",
    "    \n",
    "    next_link_as_list[[1]]$clickElement()\n",
    "    Sys.sleep(2)\n",
    "    \n",
    "}"
   ]
  },
  {
   "cell_type": "code",
   "execution_count": 31,
   "metadata": {},
   "outputs": [
    {
     "name": "stdout",
     "output_type": "stream",
     "text": [
      "all_quote data frame dimensions: 100, 5"
     ]
    },
    {
     "data": {
      "text/html": [
       "<table class=\"dataframe\">\n",
       "<caption>A data.frame: 3 × 5</caption>\n",
       "<thead>\n",
       "\t<tr><th></th><th scope=col>sequence</th><th scope=col>quote</th><th scope=col>author</th><th scope=col>author_biography_link</th><th scope=col>tags</th></tr>\n",
       "\t<tr><th></th><th scope=col>&lt;int&gt;</th><th scope=col>&lt;chr&gt;</th><th scope=col>&lt;chr&gt;</th><th scope=col>&lt;chr&gt;</th><th scope=col>&lt;chr&gt;</th></tr>\n",
       "</thead>\n",
       "<tbody>\n",
       "\t<tr><th scope=row>1</th><td>1</td><td>“The world as we have created it is a process of our thinking. It cannot be changed without changing our thinking.”                </td><td>Albert Einstein</td><td>https://quotes.toscrape.com/author/Albert-Einstein</td><td>Tags: change deep-thoughts thinking world     </td></tr>\n",
       "\t<tr><th scope=row>2</th><td>2</td><td>“It is our choices, Harry, that show what we truly are, far more than our abilities.”                                              </td><td>J.K. Rowling   </td><td>https://quotes.toscrape.com/author/J-K-Rowling    </td><td>Tags: abilities choices                       </td></tr>\n",
       "\t<tr><th scope=row>3</th><td>3</td><td>“There are only two ways to live your life. One is as though nothing is a miracle. The other is as though everything is a miracle.”</td><td>Albert Einstein</td><td>https://quotes.toscrape.com/author/Albert-Einstein</td><td>Tags: inspirational life live miracle miracles</td></tr>\n",
       "</tbody>\n",
       "</table>\n"
      ],
      "text/latex": [
       "A data.frame: 3 × 5\n",
       "\\begin{tabular}{r|lllll}\n",
       "  & sequence & quote & author & author\\_biography\\_link & tags\\\\\n",
       "  & <int> & <chr> & <chr> & <chr> & <chr>\\\\\n",
       "\\hline\n",
       "\t1 & 1 & “The world as we have created it is a process of our thinking. It cannot be changed without changing our thinking.”                 & Albert Einstein & https://quotes.toscrape.com/author/Albert-Einstein & Tags: change deep-thoughts thinking world     \\\\\n",
       "\t2 & 2 & “It is our choices, Harry, that show what we truly are, far more than our abilities.”                                               & J.K. Rowling    & https://quotes.toscrape.com/author/J-K-Rowling     & Tags: abilities choices                       \\\\\n",
       "\t3 & 3 & “There are only two ways to live your life. One is as though nothing is a miracle. The other is as though everything is a miracle.” & Albert Einstein & https://quotes.toscrape.com/author/Albert-Einstein & Tags: inspirational life live miracle miracles\\\\\n",
       "\\end{tabular}\n"
      ],
      "text/markdown": [
       "\n",
       "A data.frame: 3 × 5\n",
       "\n",
       "| <!--/--> | sequence &lt;int&gt; | quote &lt;chr&gt; | author &lt;chr&gt; | author_biography_link &lt;chr&gt; | tags &lt;chr&gt; |\n",
       "|---|---|---|---|---|---|\n",
       "| 1 | 1 | “The world as we have created it is a process of our thinking. It cannot be changed without changing our thinking.”                 | Albert Einstein | https://quotes.toscrape.com/author/Albert-Einstein | Tags: change deep-thoughts thinking world      |\n",
       "| 2 | 2 | “It is our choices, Harry, that show what we truly are, far more than our abilities.”                                               | J.K. Rowling    | https://quotes.toscrape.com/author/J-K-Rowling     | Tags: abilities choices                        |\n",
       "| 3 | 3 | “There are only two ways to live your life. One is as though nothing is a miracle. The other is as though everything is a miracle.” | Albert Einstein | https://quotes.toscrape.com/author/Albert-Einstein | Tags: inspirational life live miracle miracles |\n",
       "\n"
      ],
      "text/plain": [
       "  sequence\n",
       "1 1       \n",
       "2 2       \n",
       "3 3       \n",
       "  quote                                                                                                                              \n",
       "1 “The world as we have created it is a process of our thinking. It cannot be changed without changing our thinking.”                \n",
       "2 “It is our choices, Harry, that show what we truly are, far more than our abilities.”                                              \n",
       "3 “There are only two ways to live your life. One is as though nothing is a miracle. The other is as though everything is a miracle.”\n",
       "  author          author_biography_link                             \n",
       "1 Albert Einstein https://quotes.toscrape.com/author/Albert-Einstein\n",
       "2 J.K. Rowling    https://quotes.toscrape.com/author/J-K-Rowling    \n",
       "3 Albert Einstein https://quotes.toscrape.com/author/Albert-Einstein\n",
       "  tags                                          \n",
       "1 Tags: change deep-thoughts thinking world     \n",
       "2 Tags: abilities choices                       \n",
       "3 Tags: inspirational life live miracle miracles"
      ]
     },
     "metadata": {},
     "output_type": "display_data"
    }
   ],
   "source": [
    "# save the all_quotes dataframe as a CSV file\n",
    "write.csv(all_quotes,\n",
    "          file = \"quotes.csv\",\n",
    "          quote = FALSE,\n",
    "          row.names = FALSE,\n",
    "          fileEncoding = \"UTF-8\")\n",
    "\n",
    "cat(paste0(\"all_quote data frame dimensions: \", nrow(all_quotes), \", \", ncol(all_quotes)))\n",
    "\n",
    "head(all_quotes, 3)"
   ]
  },
  {
   "cell_type": "code",
   "execution_count": 32,
   "metadata": {},
   "outputs": [
    {
     "name": "stdout",
     "output_type": "stream",
     "text": [
      "total of biographical pages: 50\n",
      " 1 of 50\n",
      " 2 of 50\n",
      " 3 of 50\n",
      " 4 of 50\n",
      " 5 of 50\n",
      " 6 of 50\n",
      " 7 of 50\n",
      " 8 of 50\n",
      " 9 of 50\n",
      " 10 of 50\n",
      " 11 of 50\n",
      " 12 of 50\n",
      " 13 of 50\n",
      " 14 of 50\n",
      " 15 of 50\n",
      " 16 of 50\n",
      " 17 of 50\n",
      " 18 of 50\n",
      " 19 of 50\n",
      " 20 of 50\n",
      " 21 of 50\n",
      " 22 of 50\n",
      " 23 of 50\n",
      " 24 of 50\n",
      " 25 of 50\n",
      " 26 of 50\n",
      " 27 of 50\n",
      " 28 of 50\n",
      " 29 of 50\n",
      " 30 of 50\n",
      " 31 of 50\n",
      " 32 of 50\n",
      " 33 of 50\n",
      " 34 of 50\n",
      " 35 of 50\n",
      " 36 of 50\n",
      " 37 of 50\n",
      " 38 of 50\n",
      " 39 of 50\n",
      " 40 of 50\n",
      " 41 of 50\n",
      " 42 of 50\n",
      " 43 of 50\n",
      " 44 of 50\n",
      " 45 of 50\n",
      " 46 of 50\n",
      " 47 of 50\n",
      " 48 of 50\n",
      " 49 of 50\n",
      " 50 of 50"
     ]
    },
    {
     "data": {
      "text/html": [
       "<table class=\"dataframe\">\n",
       "<caption>A data.frame: 6 × 5</caption>\n",
       "<thead>\n",
       "\t<tr><th></th><th scope=col>index</th><th scope=col>name</th><th scope=col>born_date</th><th scope=col>born_location</th><th scope=col>description</th></tr>\n",
       "\t<tr><th></th><th scope=col>&lt;dbl&gt;</th><th scope=col>&lt;chr&gt;</th><th scope=col>&lt;chr&gt;</th><th scope=col>&lt;chr&gt;</th><th scope=col>&lt;chr&gt;</th></tr>\n",
       "</thead>\n",
       "<tbody>\n",
       "\t<tr><th scope=row>1</th><td>1</td><td>Albert Einstein </td><td>March 14, 1879   </td><td>in Ulm, Germany                                            </td><td>In 1879, Albert Einstein was born in Ulm, Germany. He completed his Ph.D. at the University of Zurich by 1909. His 1905 paper explaining the photoelectric effect, the basis of electronics, earned him the Nobel Prize in 1921. His first paper on Special Relativity Theory, also published in 1905, changed the world. After the rise of the Nazi party, Einstein made Princeton his permanent home, becoming a U.S. citizen in 1940. Einstein, a pacifist during World War I, stayed a firm proponent of social justice and responsibility. He chaired the Emergency Committee of Atomic Scientists, which organized to alert the public to the dangers of atomic warfare.At a symposium, he advised: \"In their struggle for the ethical good, teachers of religion must have the stature to give up the doctrine of a personal God, that is, give up that source of fear and hope which in the past placed such vast power in the hands of priests. In their labors they will have to avail themselves of those forces which are capable of cultivating the Good, the True, and the Beautiful in humanity itself. This is, to be sure a more difficult but an incomparably more worthy task . . . \" (\"Science, Philosophy and Religion, A Symposium,\" published by the Conference on Science, Philosophy and Religion in their Relation to the Democratic Way of Life, Inc., New York, 1941). In a letter to philosopher Eric Gutkind, dated Jan. 3, 1954, Einstein stated: \"The word god is for me nothing more than the expression and product of human weaknesses, the Bible a collection of honorable, but still primitive legends which are nevertheless pretty childish. No interpretation no matter how subtle can (for me) change this,\" (The Guardian, \"Childish superstition: Einstein's letter makes view of religion relatively clear,\" by James Randerson, May 13, 2008). D. 1955.While best known for his mass–energy equivalence formula E = mc2 (which has been dubbed \"the world's most famous equation\"), he received the 1921 Nobel Prize in Physics \"for his services to theoretical physics, and especially for his discovery of the law of the photoelectric effect\". The latter was pivotal in establishing quantum theory.Einstein thought that Newtonion mechanics was no longer enough to reconcile the laws of classical mechanics with the laws of the electromagnetic field. This led to the development of his special theory of relativity. He realized, however, that the principle of relativity could also be extended to gravitational fields, and with his subsequent theory of gravitation in 1916, he published a paper on the general theory of relativity. He continued to deal with problems of statistical mechanics and quantum theory, which led to his explanations of particle theory and the motion of molecules. He also investigated the thermal properties of light which laid the foundation of the photon theory of light.He was visiting the United States when Adolf Hitler came to power in 1933 and did not go back to Germany. On the eve of World War II, he endorsed a letter to President Franklin D. Roosevelt alerting him to the potential development of \"extremely powerful bombs of a new type\" and recommending that the U.S. begin similar research. This eventually led to what would become the Manhattan Project. Einstein supported defending the Allied forces, but largely denounced the idea of using the newly discovered nuclear fission as a weapon. Later, with Bertrand Russell, Einstein signed the Russell–Einstein Manifesto, which highlighted the danger of nuclear weapons. Einstein was affiliated with the Institute for Advanced Study in Princeton, New Jersey, until his death in 1955.His great intellectual achievements and originality have made the word \"Einstein\" synonymous with genius.More: http://en.wikipedia.org/wiki/Albert_E...http://www.nobelprize.org/nobel_prize...</td></tr>\n",
       "\t<tr><th scope=row>2</th><td>2</td><td>J.K. Rowling    </td><td>July 31, 1965    </td><td>in Yate, South Gloucestershire, England, The United Kingdom</td><td>See also: Robert GalbraithAlthough she writes under the pen name J.K. Rowling, pronounced like rolling, her name when her first Harry Potter book was published was simply Joanne Rowling. Anticipating that the target audience of young boys might not want to read a book written by a woman, her publishers demanded that she use two initials, rather than her full name. As she had no middle name, she chose K as the second initial of her pen name, from her paternal grandmother Kathleen Ada Bulgen Rowling. She calls herself Jo and has said, \"No one ever called me 'Joanne' when I was young, unless they were angry.\" Following her marriage, she has sometimes used the name Joanne Murray when conducting personal business. During the Leveson Inquiry she gave evidence under the name of Joanne Kathleen Rowling. In a 2012 interview, Rowling noted that she no longer cared that people pronounced her name incorrectly.Rowling was born to Peter James Rowling, a Rolls-Royce aircraft engineer, and Anne Rowling (née Volant), on 31 July 1965 in Yate, Gloucestershire, England, 10 miles (16 km) northeast of Bristol. Her mother Anne was half-French and half-Scottish. Her parents first met on a train departing from King's Cross Station bound for Arbroath in 1964. They married on 14 March 1965. Her mother's maternal grandfather, Dugald Campbell, was born in Lamlash on the Isle of Arran. Her mother's paternal grandfather, Louis Volant, was awarded the Croix de Guerre for exceptional bravery in defending the village of Courcelles-le-Comte during the First World War.Rowling's sister Dianne was born at their home when Rowling was 23 months old. The family moved to the nearby village Winterbourne when Rowling was four. She attended St Michael's Primary School, a school founded by abolitionist William Wilberforce and education reformer Hannah More. Her headmaster at St Michael's, Alfred Dunn, has been suggested as the inspiration for the Harry Potter headmaster Albus Dumbledore.As a child, Rowling often wrote fantasy stories, which she would usually then read to her sister. She recalls that: \"I can still remember me telling her a story in which she fell down a rabbit hole and was fed strawberries by the rabbit family inside it. Certainly the first story I ever wrote down (when I was five or six) was about a rabbit called Rabbit. He got the measles and was visited by his friends, including a giant bee called Miss Bee.\" At the age of nine, Rowling moved to Church Cottage in the Gloucestershire village of Tutshill, close to Chepstow, Wales. When she was a young teenager, her great aunt, who Rowling said \"taught classics and approved of a thirst for knowledge, even of a questionable kind,\" gave her a very old copy of Jessica Mitford's autobiography, Hons and Rebels. Mitford became Rowling's heroine, and Rowling subsequently read all of her books.Rowling has said of her teenage years, in an interview with The New Yorker, \"I wasn’t particularly happy. I think it’s a dreadful time of life.\" She had a difficult homelife; her mother was ill and she had a difficult relationship with her father (she is no longer on speaking terms with him). She attended secondary school at Wyedean School and College, where her mother had worked as a technician in the science department. Rowling said of her adolescence, \"Hermione [a bookish, know-it-all Harry Potter character] is loosely based on me. She's a caricature of me when I was eleven, which I'm not particularly proud of.\" Steve Eddy, who taught Rowling English when she first arrived, remembers her as \"not exceptional\" but \"one of a group of girls who were bright, and quite good at English.\" Sean Harris, her best friend in the Upper Sixth owned a turquoise Ford Anglia, which she says inspired the one in her books.                                                      </td></tr>\n",
       "\t<tr><th scope=row>3</th><td>3</td><td>Jane Austen     </td><td>December 16, 1775</td><td>in Steventon Rectory, Hampshire, The United Kingdom        </td><td>Jane Austen was an English novelist whose works of romantic fiction, set among the landed gentry, earned her a place as one of the most widely read writers in English literature, her realism and biting social commentary cementing her historical importance among scholars and critics.Austen lived her entire life as part of a close-knit family located on the lower fringes of the English landed gentry. She was educated primarily by her father and older brothers as well as through her own reading. The steadfast support of her family was critical to her development as a professional writer. Her artistic apprenticeship lasted from her teenage years until she was about 35 years old. During this period, she experimented with various literary forms, including the epistolary novel which she tried then abandoned, and wrote and extensively revised three major novels and began a fourth. From 1811 until 1816, with the release of Sense and Sensibility (1811), Pride and Prejudice (1813), Mansfield Park (1814) and Emma (1815), she achieved success as a published writer. She wrote two additional novels, Northanger Abbey and Persuasion, both published posthumously in 1818, and began a third, which was eventually titled Sanditon, but died before completing it.Austen's works critique the novels of sensibility of the second half of the 18th century and are part of the transition to 19th-century realism. Her plots, though fundamentally comic, highlight the dependence of women on marriage to secure social standing and economic security. Her work brought her little personal fame and only a few positive reviews during her lifetime, but the publication in 1869 of her nephew's A Memoir of Jane Austen introduced her to a wider public, and by the 1940s she had become widely accepted in academia as a great English writer. The second half of the 20th century saw a proliferation of Austen scholarship and the emergence of a Janeite fan culture.                                                                                                                                                                                                                                                                                                                                                                                                                                                                                                                                                                                                                                                                                                                                                                                                                                                                                                                                                                                                                                                                                                                                                                                                                                                                                                                                                                                                                                                                                                                                                                                                                                                                                                                                                                                                                                                                                                                                                               </td></tr>\n",
       "\t<tr><th scope=row>4</th><td>4</td><td>Marilyn Monroe  </td><td>June 01, 1926    </td><td>in The United States                                       </td><td>Marilyn Monroe (born Norma Jeane Mortenson; June 1, 1926 – August 5, 1962) was an American actress, model, and singer, who became a major sex symbol, starring in a number of commercially successful motion pictures during the 1950s and early 1960s.After spending much of her childhood in foster homes, Monroe began a career as a model, which led to a film contract in 1946 with Twentieth Century-Fox. Her early film appearances were minor, but her performances in The Asphalt Jungle and All About Eve (both 1950), drew attention. By 1952 she had her first leading role in Don't Bother to Knock and 1953 brought a lead in Niagara, a melodramatic film noir that dwelt on her seductiveness. Her \"dumb blonde\" persona was used to comic effect in subsequent films such as Gentlemen Prefer Blondes (1953), How to Marry a Millionaire (1953) and The Seven Year Itch (1955). Limited by typecasting, Monroe studied at the Actors Studio to broaden her range. Her dramatic performance in Bus Stop (1956) was hailed by critics and garnered a Golden Globe nomination. Her production company, Marilyn Monroe Productions, released The Prince and the Showgirl (1957), for which she received a BAFTA Award nomination and won a David di Donatello award. She received a Golden Globe Award for her performance in Some Like It Hot (1959). Monroe's last completed film was The Misfits, co-starring Clark Gable with screenplay by her then-husband, Arthur Miller.Marilyn was a passionate reader, owning four hundred books at the time of her death, and was often photographed with a book.The final years of Monroe's life were marked by illness, personal problems, and a reputation for unreliability and being difficult to work with. The circumstances of her death, from an overdose of barbiturates, have been the subject of conjecture. Though officially classified as a \"probable suicide\", the possibility of an accidental overdose, as well as of homicide, have not been ruled out. In 1999, Monroe was ranked as the sixth greatest female star of all time by the American Film Institute. In the decades following her death, she has often been cited as both a pop and a cultural icon as well as the quintessential American sex symbol.                                                                                                                                                                                                                                                                                                                                                                                                                                                                                                                                                                                                                                                                                                                                                                                                                                                                                                                                                                                                                                                                                                                                                                                                                                                                                                                                                                                                                                                                                                                                                                                                                                                                                         </td></tr>\n",
       "\t<tr><th scope=row>5</th><td>5</td><td>André Gide      </td><td>November 22, 1869</td><td>in Paris, France                                           </td><td>André Paul Guillaume Gide was a French author and winner of the Nobel Prize in literature in 1947. Gide's career ranged from its beginnings in the symbolist movement, to the advent of anticolonialism between the two World Wars.Known for his fiction as well as his autobiographical works, Gide exposes to public view the conflict and eventual reconciliation between the two sides of his personality, split apart by a straight-laced education and a narrow social moralism. Gide's work can be seen as an investigation of freedom and empowerment in the face of moralistic and puritan constraints, and gravitates around his continuous effort to achieve intellectual honesty. His self-exploratory texts reflect his search of how to be fully oneself, even to the point of owning one's sexual nature, without at the same time betraying one's values. His political activity is informed by the same ethos, as suggested by his repudiation of communism after his 1936 voyage to the USSR.                                                                                                                                                                                                                                                                                                                                                                                                                                                                                                                                                                                                                                                                                                                                                                                                                                                                                                                                                                                                                                                                                                                                                                                                                                                                                                                                                                                                                                                                                                                                                                                                                                                                                                                                                                                                                                                                                                                                                                                                                                                                                                                                                                                                                                                                                                                                                                                                                                                                                                                                                                                                                                                                                                                                                                                                                                                                                                                                                                       </td></tr>\n",
       "\t<tr><th scope=row>6</th><td>6</td><td>Thomas A. Edison</td><td>February 11, 1847</td><td>in Milan, Ohio, The United States                          </td><td>Thomas Alva Edison was an American inventor, scientist and businessman who developed many devices that greatly influenced life around the world, including the phonograph, the motion picture camera, and a long-lasting, practical electric light bulb. Dubbed \"The Wizard of Menlo Park\" (now Edison, New Jersey) by a newspaper reporter, he was one of the first inventors to apply the principles of mass production and large teamwork to the process of invention, and therefore is often credited with the creation of the first industrial research laboratory.Edison is considered one of the most prolific inventors in history, holding 1,093 U.S. patents in his name, as well as many patents in the United Kingdom, France and Germany. He is credited with numerous inventions that contributed to mass communication and, in particular, telecommunications. His advanced work in these fields was an outgrowth of his early career as a telegraph operator. Edison originated the concept and implementation of electric-power generation and distribution to homes, businesses, and factories – a crucial development in the modern industrialized world. His first power station was on Manhattan Island, New York.                                                                                                                                                                                                                                                                                                                                                                                                                                                                                                                                                                                                                                                                                                                                                                                                                                                                                                                                                                                                                                                                                                                                                                                                                                                                                                                                                                                                                                                                                                                                                                                                                                                                                                                                                                                                                                                                                                                                                                                                                                                                                                                                                                                                                                                                                                                                                                                                                                                                                                                                                                                                                                                                                                                                               </td></tr>\n",
       "</tbody>\n",
       "</table>\n"
      ],
      "text/latex": [
       "A data.frame: 6 × 5\n",
       "\\begin{tabular}{r|lllll}\n",
       "  & index & name & born\\_date & born\\_location & description\\\\\n",
       "  & <dbl> & <chr> & <chr> & <chr> & <chr>\\\\\n",
       "\\hline\n",
       "\t1 & 1 & Albert Einstein  & March 14, 1879    & in Ulm, Germany                                             & In 1879, Albert Einstein was born in Ulm, Germany. He completed his Ph.D. at the University of Zurich by 1909. His 1905 paper explaining the photoelectric effect, the basis of electronics, earned him the Nobel Prize in 1921. His first paper on Special Relativity Theory, also published in 1905, changed the world. After the rise of the Nazi party, Einstein made Princeton his permanent home, becoming a U.S. citizen in 1940. Einstein, a pacifist during World War I, stayed a firm proponent of social justice and responsibility. He chaired the Emergency Committee of Atomic Scientists, which organized to alert the public to the dangers of atomic warfare.At a symposium, he advised: \"In their struggle for the ethical good, teachers of religion must have the stature to give up the doctrine of a personal God, that is, give up that source of fear and hope which in the past placed such vast power in the hands of priests. In their labors they will have to avail themselves of those forces which are capable of cultivating the Good, the True, and the Beautiful in humanity itself. This is, to be sure a more difficult but an incomparably more worthy task . . . \" (\"Science, Philosophy and Religion, A Symposium,\" published by the Conference on Science, Philosophy and Religion in their Relation to the Democratic Way of Life, Inc., New York, 1941). In a letter to philosopher Eric Gutkind, dated Jan. 3, 1954, Einstein stated: \"The word god is for me nothing more than the expression and product of human weaknesses, the Bible a collection of honorable, but still primitive legends which are nevertheless pretty childish. No interpretation no matter how subtle can (for me) change this,\" (The Guardian, \"Childish superstition: Einstein's letter makes view of religion relatively clear,\" by James Randerson, May 13, 2008). D. 1955.While best known for his mass–energy equivalence formula E = mc2 (which has been dubbed \"the world's most famous equation\"), he received the 1921 Nobel Prize in Physics \"for his services to theoretical physics, and especially for his discovery of the law of the photoelectric effect\". The latter was pivotal in establishing quantum theory.Einstein thought that Newtonion mechanics was no longer enough to reconcile the laws of classical mechanics with the laws of the electromagnetic field. This led to the development of his special theory of relativity. He realized, however, that the principle of relativity could also be extended to gravitational fields, and with his subsequent theory of gravitation in 1916, he published a paper on the general theory of relativity. He continued to deal with problems of statistical mechanics and quantum theory, which led to his explanations of particle theory and the motion of molecules. He also investigated the thermal properties of light which laid the foundation of the photon theory of light.He was visiting the United States when Adolf Hitler came to power in 1933 and did not go back to Germany. On the eve of World War II, he endorsed a letter to President Franklin D. Roosevelt alerting him to the potential development of \"extremely powerful bombs of a new type\" and recommending that the U.S. begin similar research. This eventually led to what would become the Manhattan Project. Einstein supported defending the Allied forces, but largely denounced the idea of using the newly discovered nuclear fission as a weapon. Later, with Bertrand Russell, Einstein signed the Russell–Einstein Manifesto, which highlighted the danger of nuclear weapons. Einstein was affiliated with the Institute for Advanced Study in Princeton, New Jersey, until his death in 1955.His great intellectual achievements and originality have made the word \"Einstein\" synonymous with genius.More: http://en.wikipedia.org/wiki/Albert\\_E...http://www.nobelprize.org/nobel\\_prize...\\\\\n",
       "\t2 & 2 & J.K. Rowling     & July 31, 1965     & in Yate, South Gloucestershire, England, The United Kingdom & See also: Robert GalbraithAlthough she writes under the pen name J.K. Rowling, pronounced like rolling, her name when her first Harry Potter book was published was simply Joanne Rowling. Anticipating that the target audience of young boys might not want to read a book written by a woman, her publishers demanded that she use two initials, rather than her full name. As she had no middle name, she chose K as the second initial of her pen name, from her paternal grandmother Kathleen Ada Bulgen Rowling. She calls herself Jo and has said, \"No one ever called me 'Joanne' when I was young, unless they were angry.\" Following her marriage, she has sometimes used the name Joanne Murray when conducting personal business. During the Leveson Inquiry she gave evidence under the name of Joanne Kathleen Rowling. In a 2012 interview, Rowling noted that she no longer cared that people pronounced her name incorrectly.Rowling was born to Peter James Rowling, a Rolls-Royce aircraft engineer, and Anne Rowling (née Volant), on 31 July 1965 in Yate, Gloucestershire, England, 10 miles (16 km) northeast of Bristol. Her mother Anne was half-French and half-Scottish. Her parents first met on a train departing from King's Cross Station bound for Arbroath in 1964. They married on 14 March 1965. Her mother's maternal grandfather, Dugald Campbell, was born in Lamlash on the Isle of Arran. Her mother's paternal grandfather, Louis Volant, was awarded the Croix de Guerre for exceptional bravery in defending the village of Courcelles-le-Comte during the First World War.Rowling's sister Dianne was born at their home when Rowling was 23 months old. The family moved to the nearby village Winterbourne when Rowling was four. She attended St Michael's Primary School, a school founded by abolitionist William Wilberforce and education reformer Hannah More. Her headmaster at St Michael's, Alfred Dunn, has been suggested as the inspiration for the Harry Potter headmaster Albus Dumbledore.As a child, Rowling often wrote fantasy stories, which she would usually then read to her sister. She recalls that: \"I can still remember me telling her a story in which she fell down a rabbit hole and was fed strawberries by the rabbit family inside it. Certainly the first story I ever wrote down (when I was five or six) was about a rabbit called Rabbit. He got the measles and was visited by his friends, including a giant bee called Miss Bee.\" At the age of nine, Rowling moved to Church Cottage in the Gloucestershire village of Tutshill, close to Chepstow, Wales. When she was a young teenager, her great aunt, who Rowling said \"taught classics and approved of a thirst for knowledge, even of a questionable kind,\" gave her a very old copy of Jessica Mitford's autobiography, Hons and Rebels. Mitford became Rowling's heroine, and Rowling subsequently read all of her books.Rowling has said of her teenage years, in an interview with The New Yorker, \"I wasn’t particularly happy. I think it’s a dreadful time of life.\" She had a difficult homelife; her mother was ill and she had a difficult relationship with her father (she is no longer on speaking terms with him). She attended secondary school at Wyedean School and College, where her mother had worked as a technician in the science department. Rowling said of her adolescence, \"Hermione {[}a bookish, know-it-all Harry Potter character{]} is loosely based on me. She's a caricature of me when I was eleven, which I'm not particularly proud of.\" Steve Eddy, who taught Rowling English when she first arrived, remembers her as \"not exceptional\" but \"one of a group of girls who were bright, and quite good at English.\" Sean Harris, her best friend in the Upper Sixth owned a turquoise Ford Anglia, which she says inspired the one in her books.                                                      \\\\\n",
       "\t3 & 3 & Jane Austen      & December 16, 1775 & in Steventon Rectory, Hampshire, The United Kingdom         & Jane Austen was an English novelist whose works of romantic fiction, set among the landed gentry, earned her a place as one of the most widely read writers in English literature, her realism and biting social commentary cementing her historical importance among scholars and critics.Austen lived her entire life as part of a close-knit family located on the lower fringes of the English landed gentry. She was educated primarily by her father and older brothers as well as through her own reading. The steadfast support of her family was critical to her development as a professional writer. Her artistic apprenticeship lasted from her teenage years until she was about 35 years old. During this period, she experimented with various literary forms, including the epistolary novel which she tried then abandoned, and wrote and extensively revised three major novels and began a fourth. From 1811 until 1816, with the release of Sense and Sensibility (1811), Pride and Prejudice (1813), Mansfield Park (1814) and Emma (1815), she achieved success as a published writer. She wrote two additional novels, Northanger Abbey and Persuasion, both published posthumously in 1818, and began a third, which was eventually titled Sanditon, but died before completing it.Austen's works critique the novels of sensibility of the second half of the 18th century and are part of the transition to 19th-century realism. Her plots, though fundamentally comic, highlight the dependence of women on marriage to secure social standing and economic security. Her work brought her little personal fame and only a few positive reviews during her lifetime, but the publication in 1869 of her nephew's A Memoir of Jane Austen introduced her to a wider public, and by the 1940s she had become widely accepted in academia as a great English writer. The second half of the 20th century saw a proliferation of Austen scholarship and the emergence of a Janeite fan culture.                                                                                                                                                                                                                                                                                                                                                                                                                                                                                                                                                                                                                                                                                                                                                                                                                                                                                                                                                                                                                                                                                                                                                                                                                                                                                                                                                                                                                                                                                                                                                                                                                                                                                                                                                                                                                                                                                                                                                               \\\\\n",
       "\t4 & 4 & Marilyn Monroe   & June 01, 1926     & in The United States                                        & Marilyn Monroe (born Norma Jeane Mortenson; June 1, 1926 – August 5, 1962) was an American actress, model, and singer, who became a major sex symbol, starring in a number of commercially successful motion pictures during the 1950s and early 1960s.After spending much of her childhood in foster homes, Monroe began a career as a model, which led to a film contract in 1946 with Twentieth Century-Fox. Her early film appearances were minor, but her performances in The Asphalt Jungle and All About Eve (both 1950), drew attention. By 1952 she had her first leading role in Don't Bother to Knock and 1953 brought a lead in Niagara, a melodramatic film noir that dwelt on her seductiveness. Her \"dumb blonde\" persona was used to comic effect in subsequent films such as Gentlemen Prefer Blondes (1953), How to Marry a Millionaire (1953) and The Seven Year Itch (1955). Limited by typecasting, Monroe studied at the Actors Studio to broaden her range. Her dramatic performance in Bus Stop (1956) was hailed by critics and garnered a Golden Globe nomination. Her production company, Marilyn Monroe Productions, released The Prince and the Showgirl (1957), for which she received a BAFTA Award nomination and won a David di Donatello award. She received a Golden Globe Award for her performance in Some Like It Hot (1959). Monroe's last completed film was The Misfits, co-starring Clark Gable with screenplay by her then-husband, Arthur Miller.Marilyn was a passionate reader, owning four hundred books at the time of her death, and was often photographed with a book.The final years of Monroe's life were marked by illness, personal problems, and a reputation for unreliability and being difficult to work with. The circumstances of her death, from an overdose of barbiturates, have been the subject of conjecture. Though officially classified as a \"probable suicide\", the possibility of an accidental overdose, as well as of homicide, have not been ruled out. In 1999, Monroe was ranked as the sixth greatest female star of all time by the American Film Institute. In the decades following her death, she has often been cited as both a pop and a cultural icon as well as the quintessential American sex symbol.                                                                                                                                                                                                                                                                                                                                                                                                                                                                                                                                                                                                                                                                                                                                                                                                                                                                                                                                                                                                                                                                                                                                                                                                                                                                                                                                                                                                                                                                                                                                                                                                                                                                                         \\\\\n",
       "\t5 & 5 & André Gide       & November 22, 1869 & in Paris, France                                            & André Paul Guillaume Gide was a French author and winner of the Nobel Prize in literature in 1947. Gide's career ranged from its beginnings in the symbolist movement, to the advent of anticolonialism between the two World Wars.Known for his fiction as well as his autobiographical works, Gide exposes to public view the conflict and eventual reconciliation between the two sides of his personality, split apart by a straight-laced education and a narrow social moralism. Gide's work can be seen as an investigation of freedom and empowerment in the face of moralistic and puritan constraints, and gravitates around his continuous effort to achieve intellectual honesty. His self-exploratory texts reflect his search of how to be fully oneself, even to the point of owning one's sexual nature, without at the same time betraying one's values. His political activity is informed by the same ethos, as suggested by his repudiation of communism after his 1936 voyage to the USSR.                                                                                                                                                                                                                                                                                                                                                                                                                                                                                                                                                                                                                                                                                                                                                                                                                                                                                                                                                                                                                                                                                                                                                                                                                                                                                                                                                                                                                                                                                                                                                                                                                                                                                                                                                                                                                                                                                                                                                                                                                                                                                                                                                                                                                                                                                                                                                                                                                                                                                                                                                                                                                                                                                                                                                                                                                                                                                                                                                                       \\\\\n",
       "\t6 & 6 & Thomas A. Edison & February 11, 1847 & in Milan, Ohio, The United States                           & Thomas Alva Edison was an American inventor, scientist and businessman who developed many devices that greatly influenced life around the world, including the phonograph, the motion picture camera, and a long-lasting, practical electric light bulb. Dubbed \"The Wizard of Menlo Park\" (now Edison, New Jersey) by a newspaper reporter, he was one of the first inventors to apply the principles of mass production and large teamwork to the process of invention, and therefore is often credited with the creation of the first industrial research laboratory.Edison is considered one of the most prolific inventors in history, holding 1,093 U.S. patents in his name, as well as many patents in the United Kingdom, France and Germany. He is credited with numerous inventions that contributed to mass communication and, in particular, telecommunications. His advanced work in these fields was an outgrowth of his early career as a telegraph operator. Edison originated the concept and implementation of electric-power generation and distribution to homes, businesses, and factories – a crucial development in the modern industrialized world. His first power station was on Manhattan Island, New York.                                                                                                                                                                                                                                                                                                                                                                                                                                                                                                                                                                                                                                                                                                                                                                                                                                                                                                                                                                                                                                                                                                                                                                                                                                                                                                                                                                                                                                                                                                                                                                                                                                                                                                                                                                                                                                                                                                                                                                                                                                                                                                                                                                                                                                                                                                                                                                                                                                                                                                                                                                                                                                                                                                                                               \\\\\n",
       "\\end{tabular}\n"
      ],
      "text/markdown": [
       "\n",
       "A data.frame: 6 × 5\n",
       "\n",
       "| <!--/--> | index &lt;dbl&gt; | name &lt;chr&gt; | born_date &lt;chr&gt; | born_location &lt;chr&gt; | description &lt;chr&gt; |\n",
       "|---|---|---|---|---|---|\n",
       "| 1 | 1 | Albert Einstein  | March 14, 1879    | in Ulm, Germany                                             | In 1879, Albert Einstein was born in Ulm, Germany. He completed his Ph.D. at the University of Zurich by 1909. His 1905 paper explaining the photoelectric effect, the basis of electronics, earned him the Nobel Prize in 1921. His first paper on Special Relativity Theory, also published in 1905, changed the world. After the rise of the Nazi party, Einstein made Princeton his permanent home, becoming a U.S. citizen in 1940. Einstein, a pacifist during World War I, stayed a firm proponent of social justice and responsibility. He chaired the Emergency Committee of Atomic Scientists, which organized to alert the public to the dangers of atomic warfare.At a symposium, he advised: \"In their struggle for the ethical good, teachers of religion must have the stature to give up the doctrine of a personal God, that is, give up that source of fear and hope which in the past placed such vast power in the hands of priests. In their labors they will have to avail themselves of those forces which are capable of cultivating the Good, the True, and the Beautiful in humanity itself. This is, to be sure a more difficult but an incomparably more worthy task . . . \" (\"Science, Philosophy and Religion, A Symposium,\" published by the Conference on Science, Philosophy and Religion in their Relation to the Democratic Way of Life, Inc., New York, 1941). In a letter to philosopher Eric Gutkind, dated Jan. 3, 1954, Einstein stated: \"The word god is for me nothing more than the expression and product of human weaknesses, the Bible a collection of honorable, but still primitive legends which are nevertheless pretty childish. No interpretation no matter how subtle can (for me) change this,\" (The Guardian, \"Childish superstition: Einstein's letter makes view of religion relatively clear,\" by James Randerson, May 13, 2008). D. 1955.While best known for his mass–energy equivalence formula E = mc2 (which has been dubbed \"the world's most famous equation\"), he received the 1921 Nobel Prize in Physics \"for his services to theoretical physics, and especially for his discovery of the law of the photoelectric effect\". The latter was pivotal in establishing quantum theory.Einstein thought that Newtonion mechanics was no longer enough to reconcile the laws of classical mechanics with the laws of the electromagnetic field. This led to the development of his special theory of relativity. He realized, however, that the principle of relativity could also be extended to gravitational fields, and with his subsequent theory of gravitation in 1916, he published a paper on the general theory of relativity. He continued to deal with problems of statistical mechanics and quantum theory, which led to his explanations of particle theory and the motion of molecules. He also investigated the thermal properties of light which laid the foundation of the photon theory of light.He was visiting the United States when Adolf Hitler came to power in 1933 and did not go back to Germany. On the eve of World War II, he endorsed a letter to President Franklin D. Roosevelt alerting him to the potential development of \"extremely powerful bombs of a new type\" and recommending that the U.S. begin similar research. This eventually led to what would become the Manhattan Project. Einstein supported defending the Allied forces, but largely denounced the idea of using the newly discovered nuclear fission as a weapon. Later, with Bertrand Russell, Einstein signed the Russell–Einstein Manifesto, which highlighted the danger of nuclear weapons. Einstein was affiliated with the Institute for Advanced Study in Princeton, New Jersey, until his death in 1955.His great intellectual achievements and originality have made the word \"Einstein\" synonymous with genius.More: http://en.wikipedia.org/wiki/Albert_E...http://www.nobelprize.org/nobel_prize... |\n",
       "| 2 | 2 | J.K. Rowling     | July 31, 1965     | in Yate, South Gloucestershire, England, The United Kingdom | See also: Robert GalbraithAlthough she writes under the pen name J.K. Rowling, pronounced like rolling, her name when her first Harry Potter book was published was simply Joanne Rowling. Anticipating that the target audience of young boys might not want to read a book written by a woman, her publishers demanded that she use two initials, rather than her full name. As she had no middle name, she chose K as the second initial of her pen name, from her paternal grandmother Kathleen Ada Bulgen Rowling. She calls herself Jo and has said, \"No one ever called me 'Joanne' when I was young, unless they were angry.\" Following her marriage, she has sometimes used the name Joanne Murray when conducting personal business. During the Leveson Inquiry she gave evidence under the name of Joanne Kathleen Rowling. In a 2012 interview, Rowling noted that she no longer cared that people pronounced her name incorrectly.Rowling was born to Peter James Rowling, a Rolls-Royce aircraft engineer, and Anne Rowling (née Volant), on 31 July 1965 in Yate, Gloucestershire, England, 10 miles (16 km) northeast of Bristol. Her mother Anne was half-French and half-Scottish. Her parents first met on a train departing from King's Cross Station bound for Arbroath in 1964. They married on 14 March 1965. Her mother's maternal grandfather, Dugald Campbell, was born in Lamlash on the Isle of Arran. Her mother's paternal grandfather, Louis Volant, was awarded the Croix de Guerre for exceptional bravery in defending the village of Courcelles-le-Comte during the First World War.Rowling's sister Dianne was born at their home when Rowling was 23 months old. The family moved to the nearby village Winterbourne when Rowling was four. She attended St Michael's Primary School, a school founded by abolitionist William Wilberforce and education reformer Hannah More. Her headmaster at St Michael's, Alfred Dunn, has been suggested as the inspiration for the Harry Potter headmaster Albus Dumbledore.As a child, Rowling often wrote fantasy stories, which she would usually then read to her sister. She recalls that: \"I can still remember me telling her a story in which she fell down a rabbit hole and was fed strawberries by the rabbit family inside it. Certainly the first story I ever wrote down (when I was five or six) was about a rabbit called Rabbit. He got the measles and was visited by his friends, including a giant bee called Miss Bee.\" At the age of nine, Rowling moved to Church Cottage in the Gloucestershire village of Tutshill, close to Chepstow, Wales. When she was a young teenager, her great aunt, who Rowling said \"taught classics and approved of a thirst for knowledge, even of a questionable kind,\" gave her a very old copy of Jessica Mitford's autobiography, Hons and Rebels. Mitford became Rowling's heroine, and Rowling subsequently read all of her books.Rowling has said of her teenage years, in an interview with The New Yorker, \"I wasn’t particularly happy. I think it’s a dreadful time of life.\" She had a difficult homelife; her mother was ill and she had a difficult relationship with her father (she is no longer on speaking terms with him). She attended secondary school at Wyedean School and College, where her mother had worked as a technician in the science department. Rowling said of her adolescence, \"Hermione [a bookish, know-it-all Harry Potter character] is loosely based on me. She's a caricature of me when I was eleven, which I'm not particularly proud of.\" Steve Eddy, who taught Rowling English when she first arrived, remembers her as \"not exceptional\" but \"one of a group of girls who were bright, and quite good at English.\" Sean Harris, her best friend in the Upper Sixth owned a turquoise Ford Anglia, which she says inspired the one in her books.                                                       |\n",
       "| 3 | 3 | Jane Austen      | December 16, 1775 | in Steventon Rectory, Hampshire, The United Kingdom         | Jane Austen was an English novelist whose works of romantic fiction, set among the landed gentry, earned her a place as one of the most widely read writers in English literature, her realism and biting social commentary cementing her historical importance among scholars and critics.Austen lived her entire life as part of a close-knit family located on the lower fringes of the English landed gentry. She was educated primarily by her father and older brothers as well as through her own reading. The steadfast support of her family was critical to her development as a professional writer. Her artistic apprenticeship lasted from her teenage years until she was about 35 years old. During this period, she experimented with various literary forms, including the epistolary novel which she tried then abandoned, and wrote and extensively revised three major novels and began a fourth. From 1811 until 1816, with the release of Sense and Sensibility (1811), Pride and Prejudice (1813), Mansfield Park (1814) and Emma (1815), she achieved success as a published writer. She wrote two additional novels, Northanger Abbey and Persuasion, both published posthumously in 1818, and began a third, which was eventually titled Sanditon, but died before completing it.Austen's works critique the novels of sensibility of the second half of the 18th century and are part of the transition to 19th-century realism. Her plots, though fundamentally comic, highlight the dependence of women on marriage to secure social standing and economic security. Her work brought her little personal fame and only a few positive reviews during her lifetime, but the publication in 1869 of her nephew's A Memoir of Jane Austen introduced her to a wider public, and by the 1940s she had become widely accepted in academia as a great English writer. The second half of the 20th century saw a proliferation of Austen scholarship and the emergence of a Janeite fan culture.                                                                                                                                                                                                                                                                                                                                                                                                                                                                                                                                                                                                                                                                                                                                                                                                                                                                                                                                                                                                                                                                                                                                                                                                                                                                                                                                                                                                                                                                                                                                                                                                                                                                                                                                                                                                                                                                                                                                                                |\n",
       "| 4 | 4 | Marilyn Monroe   | June 01, 1926     | in The United States                                        | Marilyn Monroe (born Norma Jeane Mortenson; June 1, 1926 – August 5, 1962) was an American actress, model, and singer, who became a major sex symbol, starring in a number of commercially successful motion pictures during the 1950s and early 1960s.After spending much of her childhood in foster homes, Monroe began a career as a model, which led to a film contract in 1946 with Twentieth Century-Fox. Her early film appearances were minor, but her performances in The Asphalt Jungle and All About Eve (both 1950), drew attention. By 1952 she had her first leading role in Don't Bother to Knock and 1953 brought a lead in Niagara, a melodramatic film noir that dwelt on her seductiveness. Her \"dumb blonde\" persona was used to comic effect in subsequent films such as Gentlemen Prefer Blondes (1953), How to Marry a Millionaire (1953) and The Seven Year Itch (1955). Limited by typecasting, Monroe studied at the Actors Studio to broaden her range. Her dramatic performance in Bus Stop (1956) was hailed by critics and garnered a Golden Globe nomination. Her production company, Marilyn Monroe Productions, released The Prince and the Showgirl (1957), for which she received a BAFTA Award nomination and won a David di Donatello award. She received a Golden Globe Award for her performance in Some Like It Hot (1959). Monroe's last completed film was The Misfits, co-starring Clark Gable with screenplay by her then-husband, Arthur Miller.Marilyn was a passionate reader, owning four hundred books at the time of her death, and was often photographed with a book.The final years of Monroe's life were marked by illness, personal problems, and a reputation for unreliability and being difficult to work with. The circumstances of her death, from an overdose of barbiturates, have been the subject of conjecture. Though officially classified as a \"probable suicide\", the possibility of an accidental overdose, as well as of homicide, have not been ruled out. In 1999, Monroe was ranked as the sixth greatest female star of all time by the American Film Institute. In the decades following her death, she has often been cited as both a pop and a cultural icon as well as the quintessential American sex symbol.                                                                                                                                                                                                                                                                                                                                                                                                                                                                                                                                                                                                                                                                                                                                                                                                                                                                                                                                                                                                                                                                                                                                                                                                                                                                                                                                                                                                                                                                                                                                                                                                                                                                                          |\n",
       "| 5 | 5 | André Gide       | November 22, 1869 | in Paris, France                                            | André Paul Guillaume Gide was a French author and winner of the Nobel Prize in literature in 1947. Gide's career ranged from its beginnings in the symbolist movement, to the advent of anticolonialism between the two World Wars.Known for his fiction as well as his autobiographical works, Gide exposes to public view the conflict and eventual reconciliation between the two sides of his personality, split apart by a straight-laced education and a narrow social moralism. Gide's work can be seen as an investigation of freedom and empowerment in the face of moralistic and puritan constraints, and gravitates around his continuous effort to achieve intellectual honesty. His self-exploratory texts reflect his search of how to be fully oneself, even to the point of owning one's sexual nature, without at the same time betraying one's values. His political activity is informed by the same ethos, as suggested by his repudiation of communism after his 1936 voyage to the USSR.                                                                                                                                                                                                                                                                                                                                                                                                                                                                                                                                                                                                                                                                                                                                                                                                                                                                                                                                                                                                                                                                                                                                                                                                                                                                                                                                                                                                                                                                                                                                                                                                                                                                                                                                                                                                                                                                                                                                                                                                                                                                                                                                                                                                                                                                                                                                                                                                                                                                                                                                                                                                                                                                                                                                                                                                                                                                                                                                                                        |\n",
       "| 6 | 6 | Thomas A. Edison | February 11, 1847 | in Milan, Ohio, The United States                           | Thomas Alva Edison was an American inventor, scientist and businessman who developed many devices that greatly influenced life around the world, including the phonograph, the motion picture camera, and a long-lasting, practical electric light bulb. Dubbed \"The Wizard of Menlo Park\" (now Edison, New Jersey) by a newspaper reporter, he was one of the first inventors to apply the principles of mass production and large teamwork to the process of invention, and therefore is often credited with the creation of the first industrial research laboratory.Edison is considered one of the most prolific inventors in history, holding 1,093 U.S. patents in his name, as well as many patents in the United Kingdom, France and Germany. He is credited with numerous inventions that contributed to mass communication and, in particular, telecommunications. His advanced work in these fields was an outgrowth of his early career as a telegraph operator. Edison originated the concept and implementation of electric-power generation and distribution to homes, businesses, and factories – a crucial development in the modern industrialized world. His first power station was on Manhattan Island, New York.                                                                                                                                                                                                                                                                                                                                                                                                                                                                                                                                                                                                                                                                                                                                                                                                                                                                                                                                                                                                                                                                                                                                                                                                                                                                                                                                                                                                                                                                                                                                                                                                                                                                                                                                                                                                                                                                                                                                                                                                                                                                                                                                                                                                                                                                                                                                                                                                                                                                                                                                                                                                                                                                                                                                                |\n",
       "\n"
      ],
      "text/plain": [
       "  index name             born_date        \n",
       "1 1     Albert Einstein  March 14, 1879   \n",
       "2 2     J.K. Rowling     July 31, 1965    \n",
       "3 3     Jane Austen      December 16, 1775\n",
       "4 4     Marilyn Monroe   June 01, 1926    \n",
       "5 5     André Gide       November 22, 1869\n",
       "6 6     Thomas A. Edison February 11, 1847\n",
       "  born_location                                              \n",
       "1 in Ulm, Germany                                            \n",
       "2 in Yate, South Gloucestershire, England, The United Kingdom\n",
       "3 in Steventon Rectory, Hampshire, The United Kingdom        \n",
       "4 in The United States                                       \n",
       "5 in Paris, France                                           \n",
       "6 in Milan, Ohio, The United States                          \n",
       "  description                                                                                                                                                                                                                                                                                                                                                                                                                                                                                                                                                                                                                                                                                                                                                                                                                                                                                                                                                                                                                                                                                                                                                                                                                                                                                                                                                                                                                                                                                                                                                                                                                                                                                                                                                                                                                                                                                                                                                                                                                                                                                                                                                                                                                                                                                                                                                                                                                                                                                                                                                                                                                                                                                                                                                                                                                                                                                                                                                                                                                                                                                                                                                                                                                                                                                                                                                                                                                                                                                                                                                                                                                                                                                                                                                                                                                                                                                                                                                                           \n",
       "1 In 1879, Albert Einstein was born in Ulm, Germany. He completed his Ph.D. at the University of Zurich by 1909. His 1905 paper explaining the photoelectric effect, the basis of electronics, earned him the Nobel Prize in 1921. His first paper on Special Relativity Theory, also published in 1905, changed the world. After the rise of the Nazi party, Einstein made Princeton his permanent home, becoming a U.S. citizen in 1940. Einstein, a pacifist during World War I, stayed a firm proponent of social justice and responsibility. He chaired the Emergency Committee of Atomic Scientists, which organized to alert the public to the dangers of atomic warfare.At a symposium, he advised: \"In their struggle for the ethical good, teachers of religion must have the stature to give up the doctrine of a personal God, that is, give up that source of fear and hope which in the past placed such vast power in the hands of priests. In their labors they will have to avail themselves of those forces which are capable of cultivating the Good, the True, and the Beautiful in humanity itself. This is, to be sure a more difficult but an incomparably more worthy task . . . \" (\"Science, Philosophy and Religion, A Symposium,\" published by the Conference on Science, Philosophy and Religion in their Relation to the Democratic Way of Life, Inc., New York, 1941). In a letter to philosopher Eric Gutkind, dated Jan. 3, 1954, Einstein stated: \"The word god is for me nothing more than the expression and product of human weaknesses, the Bible a collection of honorable, but still primitive legends which are nevertheless pretty childish. No interpretation no matter how subtle can (for me) change this,\" (The Guardian, \"Childish superstition: Einstein's letter makes view of religion relatively clear,\" by James Randerson, May 13, 2008). D. 1955.While best known for his mass–energy equivalence formula E = mc2 (which has been dubbed \"the world's most famous equation\"), he received the 1921 Nobel Prize in Physics \"for his services to theoretical physics, and especially for his discovery of the law of the photoelectric effect\". The latter was pivotal in establishing quantum theory.Einstein thought that Newtonion mechanics was no longer enough to reconcile the laws of classical mechanics with the laws of the electromagnetic field. This led to the development of his special theory of relativity. He realized, however, that the principle of relativity could also be extended to gravitational fields, and with his subsequent theory of gravitation in 1916, he published a paper on the general theory of relativity. He continued to deal with problems of statistical mechanics and quantum theory, which led to his explanations of particle theory and the motion of molecules. He also investigated the thermal properties of light which laid the foundation of the photon theory of light.He was visiting the United States when Adolf Hitler came to power in 1933 and did not go back to Germany. On the eve of World War II, he endorsed a letter to President Franklin D. Roosevelt alerting him to the potential development of \"extremely powerful bombs of a new type\" and recommending that the U.S. begin similar research. This eventually led to what would become the Manhattan Project. Einstein supported defending the Allied forces, but largely denounced the idea of using the newly discovered nuclear fission as a weapon. Later, with Bertrand Russell, Einstein signed the Russell–Einstein Manifesto, which highlighted the danger of nuclear weapons. Einstein was affiliated with the Institute for Advanced Study in Princeton, New Jersey, until his death in 1955.His great intellectual achievements and originality have made the word \"Einstein\" synonymous with genius.More: http://en.wikipedia.org/wiki/Albert_E...http://www.nobelprize.org/nobel_prize...\n",
       "2 See also: Robert GalbraithAlthough she writes under the pen name J.K. Rowling, pronounced like rolling, her name when her first Harry Potter book was published was simply Joanne Rowling. Anticipating that the target audience of young boys might not want to read a book written by a woman, her publishers demanded that she use two initials, rather than her full name. As she had no middle name, she chose K as the second initial of her pen name, from her paternal grandmother Kathleen Ada Bulgen Rowling. She calls herself Jo and has said, \"No one ever called me 'Joanne' when I was young, unless they were angry.\" Following her marriage, she has sometimes used the name Joanne Murray when conducting personal business. During the Leveson Inquiry she gave evidence under the name of Joanne Kathleen Rowling. In a 2012 interview, Rowling noted that she no longer cared that people pronounced her name incorrectly.Rowling was born to Peter James Rowling, a Rolls-Royce aircraft engineer, and Anne Rowling (née Volant), on 31 July 1965 in Yate, Gloucestershire, England, 10 miles (16 km) northeast of Bristol. Her mother Anne was half-French and half-Scottish. Her parents first met on a train departing from King's Cross Station bound for Arbroath in 1964. They married on 14 March 1965. Her mother's maternal grandfather, Dugald Campbell, was born in Lamlash on the Isle of Arran. Her mother's paternal grandfather, Louis Volant, was awarded the Croix de Guerre for exceptional bravery in defending the village of Courcelles-le-Comte during the First World War.Rowling's sister Dianne was born at their home when Rowling was 23 months old. The family moved to the nearby village Winterbourne when Rowling was four. She attended St Michael's Primary School, a school founded by abolitionist William Wilberforce and education reformer Hannah More. Her headmaster at St Michael's, Alfred Dunn, has been suggested as the inspiration for the Harry Potter headmaster Albus Dumbledore.As a child, Rowling often wrote fantasy stories, which she would usually then read to her sister. She recalls that: \"I can still remember me telling her a story in which she fell down a rabbit hole and was fed strawberries by the rabbit family inside it. Certainly the first story I ever wrote down (when I was five or six) was about a rabbit called Rabbit. He got the measles and was visited by his friends, including a giant bee called Miss Bee.\" At the age of nine, Rowling moved to Church Cottage in the Gloucestershire village of Tutshill, close to Chepstow, Wales. When she was a young teenager, her great aunt, who Rowling said \"taught classics and approved of a thirst for knowledge, even of a questionable kind,\" gave her a very old copy of Jessica Mitford's autobiography, Hons and Rebels. Mitford became Rowling's heroine, and Rowling subsequently read all of her books.Rowling has said of her teenage years, in an interview with The New Yorker, \"I wasn’t particularly happy. I think it’s a dreadful time of life.\" She had a difficult homelife; her mother was ill and she had a difficult relationship with her father (she is no longer on speaking terms with him). She attended secondary school at Wyedean School and College, where her mother had worked as a technician in the science department. Rowling said of her adolescence, \"Hermione [a bookish, know-it-all Harry Potter character] is loosely based on me. She's a caricature of me when I was eleven, which I'm not particularly proud of.\" Steve Eddy, who taught Rowling English when she first arrived, remembers her as \"not exceptional\" but \"one of a group of girls who were bright, and quite good at English.\" Sean Harris, her best friend in the Upper Sixth owned a turquoise Ford Anglia, which she says inspired the one in her books.                                                      \n",
       "3 Jane Austen was an English novelist whose works of romantic fiction, set among the landed gentry, earned her a place as one of the most widely read writers in English literature, her realism and biting social commentary cementing her historical importance among scholars and critics.Austen lived her entire life as part of a close-knit family located on the lower fringes of the English landed gentry. She was educated primarily by her father and older brothers as well as through her own reading. The steadfast support of her family was critical to her development as a professional writer. Her artistic apprenticeship lasted from her teenage years until she was about 35 years old. During this period, she experimented with various literary forms, including the epistolary novel which she tried then abandoned, and wrote and extensively revised three major novels and began a fourth. From 1811 until 1816, with the release of Sense and Sensibility (1811), Pride and Prejudice (1813), Mansfield Park (1814) and Emma (1815), she achieved success as a published writer. She wrote two additional novels, Northanger Abbey and Persuasion, both published posthumously in 1818, and began a third, which was eventually titled Sanditon, but died before completing it.Austen's works critique the novels of sensibility of the second half of the 18th century and are part of the transition to 19th-century realism. Her plots, though fundamentally comic, highlight the dependence of women on marriage to secure social standing and economic security. Her work brought her little personal fame and only a few positive reviews during her lifetime, but the publication in 1869 of her nephew's A Memoir of Jane Austen introduced her to a wider public, and by the 1940s she had become widely accepted in academia as a great English writer. The second half of the 20th century saw a proliferation of Austen scholarship and the emergence of a Janeite fan culture.                                                                                                                                                                                                                                                                                                                                                                                                                                                                                                                                                                                                                                                                                                                                                                                                                                                                                                                                                                                                                                                                                                                                                                                                                                                                                                                                                                                                                                                                                                                                                                                                                                                                                                                                                                                                                                                                                                                                                               \n",
       "4 Marilyn Monroe (born Norma Jeane Mortenson; June 1, 1926 – August 5, 1962) was an American actress, model, and singer, who became a major sex symbol, starring in a number of commercially successful motion pictures during the 1950s and early 1960s.After spending much of her childhood in foster homes, Monroe began a career as a model, which led to a film contract in 1946 with Twentieth Century-Fox. Her early film appearances were minor, but her performances in The Asphalt Jungle and All About Eve (both 1950), drew attention. By 1952 she had her first leading role in Don't Bother to Knock and 1953 brought a lead in Niagara, a melodramatic film noir that dwelt on her seductiveness. Her \"dumb blonde\" persona was used to comic effect in subsequent films such as Gentlemen Prefer Blondes (1953), How to Marry a Millionaire (1953) and The Seven Year Itch (1955). Limited by typecasting, Monroe studied at the Actors Studio to broaden her range. Her dramatic performance in Bus Stop (1956) was hailed by critics and garnered a Golden Globe nomination. Her production company, Marilyn Monroe Productions, released The Prince and the Showgirl (1957), for which she received a BAFTA Award nomination and won a David di Donatello award. She received a Golden Globe Award for her performance in Some Like It Hot (1959). Monroe's last completed film was The Misfits, co-starring Clark Gable with screenplay by her then-husband, Arthur Miller.Marilyn was a passionate reader, owning four hundred books at the time of her death, and was often photographed with a book.The final years of Monroe's life were marked by illness, personal problems, and a reputation for unreliability and being difficult to work with. The circumstances of her death, from an overdose of barbiturates, have been the subject of conjecture. Though officially classified as a \"probable suicide\", the possibility of an accidental overdose, as well as of homicide, have not been ruled out. In 1999, Monroe was ranked as the sixth greatest female star of all time by the American Film Institute. In the decades following her death, she has often been cited as both a pop and a cultural icon as well as the quintessential American sex symbol.                                                                                                                                                                                                                                                                                                                                                                                                                                                                                                                                                                                                                                                                                                                                                                                                                                                                                                                                                                                                                                                                                                                                                                                                                                                                                                                                                                                                                                                                                                                                                                                                                                                                                         \n",
       "5 André Paul Guillaume Gide was a French author and winner of the Nobel Prize in literature in 1947. Gide's career ranged from its beginnings in the symbolist movement, to the advent of anticolonialism between the two World Wars.Known for his fiction as well as his autobiographical works, Gide exposes to public view the conflict and eventual reconciliation between the two sides of his personality, split apart by a straight-laced education and a narrow social moralism. Gide's work can be seen as an investigation of freedom and empowerment in the face of moralistic and puritan constraints, and gravitates around his continuous effort to achieve intellectual honesty. His self-exploratory texts reflect his search of how to be fully oneself, even to the point of owning one's sexual nature, without at the same time betraying one's values. His political activity is informed by the same ethos, as suggested by his repudiation of communism after his 1936 voyage to the USSR.                                                                                                                                                                                                                                                                                                                                                                                                                                                                                                                                                                                                                                                                                                                                                                                                                                                                                                                                                                                                                                                                                                                                                                                                                                                                                                                                                                                                                                                                                                                                                                                                                                                                                                                                                                                                                                                                                                                                                                                                                                                                                                                                                                                                                                                                                                                                                                                                                                                                                                                                                                                                                                                                                                                                                                                                                                                                                                                                                                       \n",
       "6 Thomas Alva Edison was an American inventor, scientist and businessman who developed many devices that greatly influenced life around the world, including the phonograph, the motion picture camera, and a long-lasting, practical electric light bulb. Dubbed \"The Wizard of Menlo Park\" (now Edison, New Jersey) by a newspaper reporter, he was one of the first inventors to apply the principles of mass production and large teamwork to the process of invention, and therefore is often credited with the creation of the first industrial research laboratory.Edison is considered one of the most prolific inventors in history, holding 1,093 U.S. patents in his name, as well as many patents in the United Kingdom, France and Germany. He is credited with numerous inventions that contributed to mass communication and, in particular, telecommunications. His advanced work in these fields was an outgrowth of his early career as a telegraph operator. Edison originated the concept and implementation of electric-power generation and distribution to homes, businesses, and factories – a crucial development in the modern industrialized world. His first power station was on Manhattan Island, New York.                                                                                                                                                                                                                                                                                                                                                                                                                                                                                                                                                                                                                                                                                                                                                                                                                                                                                                                                                                                                                                                                                                                                                                                                                                                                                                                                                                                                                                                                                                                                                                                                                                                                                                                                                                                                                                                                                                                                                                                                                                                                                                                                                                                                                                                                                                                                                                                                                                                                                                                                                                                                                                                                                                                                               "
      ]
     },
     "metadata": {},
     "output_type": "display_data"
    }
   ],
   "source": [
    "# Each author has a biography page. We can get that info too.\n",
    "# This will get all the unique authors biography links\n",
    "unique_links_biographies <- unique(all_quotes$author_biography_link)\n",
    "cat(\"total of biographical pages:\", length(unique_links_biographies))\n",
    "\n",
    "# Now we can loop over these biography links and save their info in a dataframe\n",
    "authors_info <- data.frame()\n",
    "\n",
    "for (link in unique_links_biographies) {\n",
    "    driver$navigate(link)\n",
    "    Sys.sleep(3)\n",
    "    index <- nrow(authors_info) + 1\n",
    "    name <- driver$findElement(\"css selector\", \"h3.author-title\")$getElementText()\n",
    "    born_date <- driver$findElement(\"css selector\", \"span.author-born-date\")$getElementText()\n",
    "    born_location <- driver$findElement(\"css selector\", \"span.author-born-location\")$getElementText()\n",
    "    description <- driver$findElement(\"css selector\", \"div.author-description\")$getElementText()\n",
    "    \n",
    "    cat(\"\\n\", index, \"of\", length(unique_links_biographies))\n",
    "    flush.console()\n",
    "    \n",
    "    new_row <- data.frame(\"index\" = index,\n",
    "                          \"name\" = as.character(name),\n",
    "                          \"born_date\" = as.character(born_date),\n",
    "                          \"born_location\" = as.character(born_location),\n",
    "                          \"description\" = as.character(description))\n",
    "    \n",
    "    authors_info <- rbind(authors_info, new_row) \n",
    "}\n",
    "\n",
    "head(authors_info)"
   ]
  },
  {
   "cell_type": "code",
   "execution_count": 33,
   "metadata": {},
   "outputs": [],
   "source": [
    "# Now we go back to the login page and play a little with the text input boxes.\n",
    "\n",
    "# Go to the login page\n",
    "login_xpath <- \"/html/body/div/div[1]/div[2]/p/a\"\n",
    "driver$findElement(using = \"xpath\", value = login_xpath)$clickElement()\n",
    "\n",
    "# Save the text input boxes elements in variables, using their id (two forms):\n",
    "username_input <- driver$findElement(\"id\", \"username\") \n",
    "password_input <- driver$findElement(\"css selector\", \"#password\")"
   ]
  },
  {
   "cell_type": "code",
   "execution_count": 34,
   "metadata": {},
   "outputs": [],
   "source": [
    "# Username and password values\n",
    "# (one can also use base::readline() or getPass::getPass() \n",
    "# to ask for user input)\n",
    "username <- \"Fabrício\"\n",
    "password <- \"1234 is not a secure password!\"\n",
    "\n",
    "# When dealing with input boxes, it is good practice to clear their value first\n",
    "username_input$clearElement()\n",
    "\n",
    "# Send the username information (it needs to be passed as a list)\n",
    "username_input$sendKeysToElement(list(username))\n",
    "\n",
    "# Do the same with password\n",
    "password_input$clearElement()\n",
    "password_input$sendKeysToElement(list(password))\n",
    "\n",
    "# Once you don't need the username and password variables anymore, delete them\n",
    "rm(username, password)"
   ]
  },
  {
   "cell_type": "code",
   "execution_count": 35,
   "metadata": {},
   "outputs": [],
   "source": [
    "# Find the submit button\n",
    "submit_button <- driver$findElement(\"css selector\", \"input.btn.btn-primary\")\n",
    "\n",
    "# Use the submitElement() method to submit the form information\n",
    "submit_button$submitElement()"
   ]
  },
  {
   "cell_type": "code",
   "execution_count": 36,
   "metadata": {},
   "outputs": [],
   "source": [
    "# let's go to another page and learn more about how to manipulate forms\n",
    "url <- \"http://httpbin.org/forms/post\"\n",
    "driver$navigate(url)\n",
    "Sys.sleep(3)"
   ]
  },
  {
   "cell_type": "code",
   "execution_count": 37,
   "metadata": {},
   "outputs": [],
   "source": [
    "############# CHALLENGE ################\n",
    "# Ask a pizza using the form.\n",
    "# Use RSelenium to do that.\n",
    "# Provide fictional data and order the following kind of pizza:\n",
    "# * large size\n",
    "# * bacon, extra cheese and mushroom toppings\n",
    "# * 19h45 delivery time\n",
    "# * give some delivery instructions\n",
    "# \n",
    "# Then hit the submit button.\n",
    "# You will see a JSON page with your orders info.\n",
    "# \n",
    "# You can tell the browser to go back to the order page\n",
    "# and play with it again.\n",
    "#\n",
    "# Can you make a code to automate ordering \n",
    "# 20 different pizzas?\n",
    "# Try it yourself. You most certainly can!\n",
    "########################################"
   ]
  },
  {
   "cell_type": "code",
   "execution_count": 38,
   "metadata": {},
   "outputs": [
    {
     "data": {
      "text/html": [
       "<ol>\n",
       "\t<li>NULL</li>\n",
       "\t<li>NULL</li>\n",
       "\t<li>NULL</li>\n",
       "</ol>\n"
      ],
      "text/latex": [
       "\\begin{enumerate}\n",
       "\\item NULL\n",
       "\\item NULL\n",
       "\\item NULL\n",
       "\\end{enumerate}\n"
      ],
      "text/markdown": [
       "1. NULL\n",
       "2. NULL\n",
       "3. NULL\n",
       "\n",
       "\n"
      ],
      "text/plain": [
       "[[1]]\n",
       "NULL\n",
       "\n",
       "[[2]]\n",
       "NULL\n",
       "\n",
       "[[3]]\n",
       "NULL\n"
      ]
     },
     "metadata": {},
     "output_type": "display_data"
    }
   ],
   "source": [
    "# This code choose the large option in the radio buttons\n",
    "radio_buttons <- driver$findElements(\"css selector\", 'input[type=\"radio\"]')\n",
    "radio_buttons[[3]]$clickElement()\n",
    "\n",
    "# Choose the first, second and fourth toppings to your pizza\n",
    "checkboxes <- driver$findElements(\"css selector\", 'input[name=\"topping\"]')\n",
    "lapply(checkboxes[-3], click_element)\n",
    "\n",
    "# Set delivery time to 19h45\n",
    "time <- driver$findElement(\"css selector\", 'input[type=\"time\"]')\n",
    "time$sendKeysToElement(list(\"19:45\"))\n",
    "\n",
    "poetry <- \"\n",
    "Two households, both alike in dignity\\n\n",
    "(In fair Verona, where we lay our scene),\\n\n",
    "From ancient grudge break to new mutiny,\\n\n",
    "Where civil blood makes civil hands unclean.\\n\n",
    "From forth the fatal loins of these two foes\\n\n",
    "A pair of star-crossed lovers take their life;\\n\n",
    "Whose misadventured piteous overthrows\\n\n",
    "Doth with their death bury their parents’ strife.\\n\n",
    "The fearful passage of their death-marked love\\n\n",
    "And the continuance of their parents’ rage,\\n\n",
    "Which, but their children’s end, naught could remove,\\n\n",
    "Is now the two hours’ traffic of our stage;\\n\n",
    "The which, if you with patient ears attend,\\n\n",
    "What here shall miss, our toil shall strive to mend.\\n\"\n",
    "\n",
    "# Send aditional information to the textarea input\n",
    "textarea <- driver$findElement(\"tag name\", \"textarea\")\n",
    "textarea$sendKeysToElement(list(poetry))\n",
    "\n",
    "# Submit form and go back\n",
    "driver$findElement(\"css selector\", \"p > button\")$submitElement()\n",
    "Sys.sleep(5)\n",
    "driver$goBack()\n",
    "\n",
    "# Refresh the form page:\n",
    "driver$refresh()"
   ]
  },
  {
   "cell_type": "code",
   "execution_count": 39,
   "metadata": {},
   "outputs": [
    {
     "data": {
      "text/html": [
       "<ol>\n",
       "\t<li>NULL</li>\n",
       "</ol>\n"
      ],
      "text/latex": [
       "\\begin{enumerate}\n",
       "\\item NULL\n",
       "\\end{enumerate}\n"
      ],
      "text/markdown": [
       "1. NULL\n",
       "\n",
       "\n"
      ],
      "text/plain": [
       "[[1]]\n",
       "NULL\n"
      ]
     },
     "metadata": {},
     "output_type": "display_data"
    },
    {
     "data": {
      "text/plain": [
       "{html_document}\n",
       "<html lang=\"en\">\n",
       "[1] <head>\\n<meta http-equiv=\"Content-Type\" content=\"text/html; charset=UTF-8 ...\n",
       "[2] <body>\\n\\n<div id=\"content\">\\n  <div id=\"help-heading\">\\n    <h1><span id ..."
      ]
     },
     "metadata": {},
     "output_type": "display_data"
    },
    {
     "data": {
      "text/html": [
       "0"
      ],
      "text/latex": [
       "0"
      ],
      "text/markdown": [
       "0"
      ],
      "text/plain": [
       "[1] 0"
      ]
     },
     "metadata": {},
     "output_type": "display_data"
    }
   ],
   "source": [
    "# When you are done working with selenium, \n",
    "# Quit the browser and end the session\n",
    "driver$quit()\n",
    "driver$closeServer()\n",
    "rm(driver, client_server)\n",
    "\n",
    "# This releases the port.\n",
    "system(\"taskkill /im java.exe /f\", intern=FALSE, ignore.stdout=FALSE)"
   ]
  },
  {
   "cell_type": "code",
   "execution_count": null,
   "metadata": {},
   "outputs": [],
   "source": []
  }
 ],
 "metadata": {
  "kernelspec": {
   "display_name": "R",
   "language": "R",
   "name": "ir"
  },
  "language_info": {
   "codemirror_mode": "r",
   "file_extension": ".r",
   "mimetype": "text/x-r-source",
   "name": "R",
   "pygments_lexer": "r",
   "version": "4.0.5"
  }
 },
 "nbformat": 4,
 "nbformat_minor": 4
}
